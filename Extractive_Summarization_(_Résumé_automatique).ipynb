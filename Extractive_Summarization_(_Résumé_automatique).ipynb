{
  "cells": [
    {
      "cell_type": "markdown",
      "metadata": {
        "id": "view-in-github",
        "colab_type": "text"
      },
      "source": [
        "<a href=\"https://colab.research.google.com/github/AbderrahmanS/Text-Summarization-Methods/blob/main/Extractive_Summarization_(_Re%CC%81sume%CC%81_automatique).ipynb\" target=\"_parent\"><img src=\"https://colab.research.google.com/assets/colab-badge.svg\" alt=\"Open In Colab\"/></a>"
      ]
    },
    {
      "cell_type": "markdown",
      "source": [
        "# 1. Méthodes extractives : Application de TextRank et de LexRank"
      ],
      "metadata": {
        "id": "dKeGTTCSVY51"
      }
    },
    {
      "cell_type": "markdown",
      "source": [
        "## Acquisition du texte à résumer"
      ],
      "metadata": {
        "id": "gFt9W-lYrHOH"
      }
    },
    {
      "cell_type": "markdown",
      "source": [
        "### Ecrire une fonction parse_pdf qui fait la conversion Pdf2Text en se basant sur la bibliothèque `pdfplumber`"
      ],
      "metadata": {
        "id": "Xy53J8ErQNTZ"
      }
    },
    {
      "cell_type": "code",
      "source": [
        "!pip install pdfplumber"
      ],
      "metadata": {
        "id": "Jsr1GdK7YVgN",
        "outputId": "4065ed17-df24-4ac5-8516-921eab5531f5",
        "colab": {
          "base_uri": "https://localhost:8080/"
        }
      },
      "execution_count": null,
      "outputs": [
        {
          "output_type": "stream",
          "name": "stdout",
          "text": [
            "Collecting pdfplumber\n",
            "  Downloading pdfplumber-0.10.3-py3-none-any.whl (48 kB)\n",
            "\u001b[?25l     \u001b[90m━━━━━━━━━━━━━━━━━━━━━━━━━━━━━━━━━━━━━━━━\u001b[0m \u001b[32m0.0/49.0 kB\u001b[0m \u001b[31m?\u001b[0m eta \u001b[36m-:--:--\u001b[0m\r\u001b[2K     \u001b[90m━━━━━━━━━━━━━━━━━━━━━━━━━━━━━━━━━━━━━━━━\u001b[0m \u001b[32m49.0/49.0 kB\u001b[0m \u001b[31m1.6 MB/s\u001b[0m eta \u001b[36m0:00:00\u001b[0m\n",
            "\u001b[?25hCollecting pdfminer.six==20221105 (from pdfplumber)\n",
            "  Downloading pdfminer.six-20221105-py3-none-any.whl (5.6 MB)\n",
            "\u001b[2K     \u001b[90m━━━━━━━━━━━━━━━━━━━━━━━━━━━━━━━━━━━━━━━━\u001b[0m \u001b[32m5.6/5.6 MB\u001b[0m \u001b[31m51.7 MB/s\u001b[0m eta \u001b[36m0:00:00\u001b[0m\n",
            "\u001b[?25hRequirement already satisfied: Pillow>=9.1 in /usr/local/lib/python3.10/dist-packages (from pdfplumber) (9.4.0)\n",
            "Collecting pypdfium2>=4.18.0 (from pdfplumber)\n",
            "  Downloading pypdfium2-4.24.0-py3-none-manylinux_2_17_x86_64.whl (3.0 MB)\n",
            "\u001b[2K     \u001b[90m━━━━━━━━━━━━━━━━━━━━━━━━━━━━━━━━━━━━━━━━\u001b[0m \u001b[32m3.0/3.0 MB\u001b[0m \u001b[31m103.2 MB/s\u001b[0m eta \u001b[36m0:00:00\u001b[0m\n",
            "\u001b[?25hRequirement already satisfied: charset-normalizer>=2.0.0 in /usr/local/lib/python3.10/dist-packages (from pdfminer.six==20221105->pdfplumber) (3.3.2)\n",
            "Requirement already satisfied: cryptography>=36.0.0 in /usr/local/lib/python3.10/dist-packages (from pdfminer.six==20221105->pdfplumber) (41.0.5)\n",
            "Requirement already satisfied: cffi>=1.12 in /usr/local/lib/python3.10/dist-packages (from cryptography>=36.0.0->pdfminer.six==20221105->pdfplumber) (1.16.0)\n",
            "Requirement already satisfied: pycparser in /usr/local/lib/python3.10/dist-packages (from cffi>=1.12->cryptography>=36.0.0->pdfminer.six==20221105->pdfplumber) (2.21)\n",
            "Installing collected packages: pypdfium2, pdfminer.six, pdfplumber\n",
            "Successfully installed pdfminer.six-20221105 pdfplumber-0.10.3 pypdfium2-4.24.0\n"
          ]
        }
      ]
    },
    {
      "cell_type": "code",
      "source": [
        "import pdfplumber\n",
        "\n",
        "def parse_pdf(path):\n",
        "    with pdfplumber.open(path) as pdf:\n",
        "        text = ''\n",
        "        for page in pdf.pages:\n",
        "            text += page.extract_text()\n",
        "    return text\n"
      ],
      "metadata": {
        "id": "CNoEYeo5bswr"
      },
      "execution_count": null,
      "outputs": []
    },
    {
      "cell_type": "markdown",
      "source": [
        "### Conversion du fichier pdf en texte"
      ],
      "metadata": {
        "id": "EF9ozkVWQXPY"
      }
    },
    {
      "cell_type": "code",
      "source": [
        "#Le document utilisé dans ce TP est téléchargeable sur ce lien:\n",
        "# https://www.bkam.ma/Discours/2023/Intervention-de-monsieur-le-wali-de-bank-al-maghrib-lors-du-symposium-du-conseil-du-developpement-et-de-la-solidarite-cds\n",
        "doc=parse_pdf('/content/CDS Symposium_Intervention_MLW.pdf')\n",
        "print(\"Texte extrait\")\n",
        "print(doc)"
      ],
      "metadata": {
        "colab": {
          "base_uri": "https://localhost:8080/"
        },
        "id": "j5bhB8_vcL2d",
        "outputId": "5a5e84da-7862-4ce7-ce26-2ecb5d8441e0"
      },
      "execution_count": null,
      "outputs": [
        {
          "output_type": "stream",
          "name": "stdout",
          "text": [
            "Texte extrait\n",
            "Symposium du CDS sur\n",
            "L’investissement et le rôle de « l’Etat Territorial »\n",
            "Intervention de Monsieur Abdellatif Jouahri\n",
            "Wali de Bank Al-Maghrib\n",
            "Rabat, 8 février 2023Monsieur le président du CDS et cher ami,\n",
            "Messieurs les Ministres,\n",
            "Monsieur le président de la CGEM,\n",
            "Messieurs les présidents et directeurs généraux,\n",
            "Honorable assistance,\n",
            "Chers amis, chers collègues,\n",
            "C’est pour moi un réel plaisir de prendre part à cette rencontre importante, mais\n",
            "aussi conviviale et chaleureuse. Je n’ai pas hésité à répondre à l’invitation qui\n",
            "m’a été adressée par le Conseil du Développement et de la Solidarité (CDS) et\n",
            "son président, mon ami Si Benamour dont la détermination et la mobilisation\n",
            "ont permis de faire aboutir le projet de ce Symposium et de nous réunir dans\n",
            "ce lieu emblématique de Rabat. Si Mohamed a été pendant de longues années\n",
            "membre du Conseil de Bank Al-Maghrib et l’occasion m’est donnée aujourd’hui\n",
            "pour lui rendre hommage, au nom de BAM, pour son dévouement, son soutien\n",
            "et sa contribution durant son mandat.\n",
            "L’importance de cette rencontre est liée au fait qu’elle aborde une\n",
            "problématique centrale et d’actualité pour notre pays surtout dans cette ère\n",
            "post-Covid où l’environnement international défavorable et ses perspectives\n",
            "incertaines pèsent sur l’activité économique et inhibent l’initiative privée.\n",
            "J’aimerais donc commencer mon intervention par revenir sur cette conjoncture\n",
            "mondiale avant d’entamer la question de l’investissement.\n",
            "2Mesdames et Messieurs,\n",
            "Comme vous le savez, l’espoir nourri au lendemain de la crise pandémique s’est\n",
            "rapidement dissipé après le rebond enregistré en 2021. L’année en cours devrait\n",
            "être une des plus difficiles pour l’économie mondiale depuis le début du\n",
            "millénaire. Le décalage entre les rythmes de reprise de la demande après la levée\n",
            "des restrictions sanitaires et de l’offre, ainsi que les difficultés logistiques se sont\n",
            "traduits par des perturbations des chaines d’approvisionnement et une flambée\n",
            "des prix. Cette dernière a été par la suite exacerbée par le renchérissement des\n",
            "produits énergétiques et alimentaires induit par le conflit en Ukraine et les\n",
            "sanctions imposées à la Russie.\n",
            "L’inflation s’est ainsi rapidement accélérée pour atteindre des niveaux jamais\n",
            "enregistrés depuis des décennies. Elle s’est avérée plus forte et plus durable\n",
            "qu’initialement prévu, amenant les banques centrales à entamer un mouvement\n",
            "de resserrements monétaires rapides et qui furent largement synchronisés.\n",
            "Les conséquences ont été importantes avec un durcissement des conditions de\n",
            "financement, une sortie de capitaux de certains pays émergents, une montée\n",
            "des risques pesant sur la stabilité financière et un affaiblissement sensible de\n",
            "l’activité économique et de ses perspectives.\n",
            "3L’ensemble de ces développements constitue des manifestations et des facteurs\n",
            "de changements rapides façonnant et transformant l’économie et l’ordre\n",
            "mondial. En quelques mois, on est passé d’un contexte où le paradigme\n",
            "dominant était « des taux très bas pour très longtemps » à une nouvelle réalité\n",
            "marquée par une inflation et des taux d’intérêt élevés. La globalisation tant\n",
            "vantée pour ses retombées sur la productivité et le niveau de vie ne « fait plus\n",
            "recette » face à la montée du souverainisme économique et de la fragmentation\n",
            "géopolitique. Cette tendance n’est pas liée uniquement au conflit en Ukraine,\n",
            "mais elle a été amorcée bien avant, avec les guerres commerciales entre les pays\n",
            "occidentaux et la Chine, le Brexit puis la crise de la Covid-19.\n",
            "Aujourd’hui, l’inflation baisse, et comme il ressort des débats au dernier forum\n",
            "de Davos et des perspectives du FMI de janvier dernier, les prémices d’un\n",
            "retournement apparaissent, induites par une résilience plus forte que prévu en\n",
            "Europe en matière d’approvisionnement énergétique, l’abandon par la Chine\n",
            "de sa politique zéro-Covid ainsi que la persistance des conditions favorables sur\n",
            "les marchés de travail aussi bien dans la zone euro qu’aux Etats-Unis.\n",
            "Toutefois, les risques demeurent élevés en lien avec l’enlisement et un éventuel\n",
            "élargissement du conflit en Ukraine, ainsi que la persistance des niveaux élevés\n",
            "de l’inflation. Les resserrements monétaires décélèrent certes, mais devraient se\n",
            "poursuivre et en conséquence les taux d’intérêt resteraient encore élevés.\n",
            "4A cela s’ajoutent les séquelles des crises successives dont notamment\n",
            "l’amenuisement des marges budgétaires des gouvernements et la forte\n",
            "aggravation de l’endettement tant public que privé.\n",
            "Mesdames et Messieurs,\n",
            "C’est dans ce contexte difficile et incertain que l’économie nationale est appelée\n",
            "désormais à évoluer. De surcroit, elle fait face à un défi de plus en plus\n",
            "inquiétant lié au stress hydrique qui affecte l’agriculture et l’ensemble des\n",
            "secteurs non agricoles.\n",
            "Ainsi, selon les dernières projections de BAM, la croissance économique aurait\n",
            "été faible en 2022, se situant à 1,1%, et devrait ressortir autour de 3% au cours\n",
            "des deux prochaines années. Avec une progression démographique de près de\n",
            "1%, il est difficile d’envisager, si de tels rythmes de croissance se maintiennent,\n",
            "une amélioration tangible des niveaux de vie même à moyen terme. D’ailleurs,\n",
            "tous les classements internationaux le confirment, en particulier celui en\n",
            "matière de développement humain, qu’on peut critiquer sur certains volets\n",
            "certes, mais force est d’admettre que le Maroc persiste au-delà de la 120ème\n",
            "position depuis au moins une dizaine d’années.\n",
            "C’est un constat frustrant au regard de la volonté affichée et de l’effort de\n",
            "réforme et d’investissement économique et social que déploie notre pays depuis\n",
            "de longues années.\n",
            "5Il est donc impératif de s’interroger sur ce décalage, une problématique que\n",
            "Bank Al-Maghrib a soulevée à plusieurs reprises, notamment à l’occasion de la\n",
            "présentation de son rapport annuel à Sa Majesté Le Roi et en février dernier\n",
            "devant la Commission des finances et du développement économique de la\n",
            "Chambre des Représentants.\n",
            "Mesdames et Messieurs,\n",
            "Au cours des deux dernières décennies, notre pays a consenti un effort\n",
            "important en matière d’investissement qui atteint, selon les données des\n",
            "comptes nationaux, autour de 30% du PIB. En comparaison internationale et\n",
            "au regard de l’expérience des pays ayant déjà réussi leur émergence économique\n",
            "comme la Corée du Sud ou la Chine, cela devrait être suffisant pour espérer un\n",
            "rattrapage économique rapide. Or, sur la même période, la croissance s’est\n",
            "établie à 3,8% en moyenne annuelle, avec un affaiblissement de son rythme\n",
            "de 4,7% entre 2000 et 2010 à 2,8% entre 2011 et 2021.\n",
            "Sur le marché du travail, l’économie nationale a généré au cours des deux\n",
            "dernières décennies 89 mille emplois annuellement, soit 24 mille emplois par\n",
            "point de croissance. Cette moyenne est passée de 30 mille emplois au cours de\n",
            "la première décennie à 13 mille durant la seconde. Parallèlement, la population\n",
            "en âge de travailler s’est accrue au rythme moyen de 380 mille par année.\n",
            "6Ce qui empêche le taux de chômage d’augmenter sensiblement, c’est qu’une\n",
            "grande partie de cette population reste en dehors du marché, soit près de 3\n",
            "hommes sur 10, plus de 8 femmes sur 10 et près de 55% globalement, un gâchis\n",
            "de la ressource la plus précieuse pour le développement de notre pays, son\n",
            "capital humain. Outre ce faible niveau de participation, de larges franges de la\n",
            "population travaillent dans des activités informelles sans filets sociaux. Pour\n",
            "rappel, près de 5,5 millions de ménages, soit autour de 25 millions de personnes,\n",
            "ont bénéficié de l’opération Tadamon lors de la pandémie en 2020.\n",
            "Au plan de la répartition territoriale de la croissance, les disparités régionales\n",
            "sont également importantes. Selon les données du HCP, près de 60% du PIB\n",
            "du pays est créé au niveau de trois régions sur les douze. En termes de\n",
            "dynamique, la seule région de Tanger-Tétouan-Al Hoceima a participé avec 0,5\n",
            "point sur les 2,9% de croissance de l’économie nationale en 2019. De même, le\n",
            "chômage urbain peut varier du simple au double, se situant par exemple pour\n",
            "la même année à 9,8% dans la région Marrakech-Safi contre 19,7% dans les\n",
            "trois régions du Sud.\n",
            "Pour résumer ces constats, je dirais que le Maroc consent un effort\n",
            "d’investissement important et constant, mais qui donne lieu jusqu’à présent à\n",
            "une croissance économique insuffisante, en tendance baissière, avec un\n",
            "7contenu en emploi de plus en plus faible et dont les retombées ne profitent pas\n",
            "de la même manière à toutes les régions.\n",
            "Certes, l’environnement international n’a pas toujours été favorable, surtout ces\n",
            "dernières années, mais c’est sur les facteurs internes qu’on peut et qu’il faudrait\n",
            "agir pour redresser la situation.\n",
            "Ces performances seraient en effet le reflet, outre les insuffisances de la\n",
            "politique de redistribution, d’une faiblesse du rendement de l’investissement.\n",
            "Le nombre d’unités d’investissement (en % du PIB) nécessaires pour réaliser\n",
            "un point de croissance du PIB, ce qu’on appelle communément le coefficient\n",
            "marginal du capital (ICOR), a été de 9,4 en moyenne durant la période 2000-\n",
            "2019, contre 5,7 en moyenne pour les pays de la catégorie à revenu\n",
            "intermédiaire-tranche inférieure à laquelle appartient le Maroc.\n",
            "Plusieurs raisons peuvent être avancées pour justifier ce faible rendement,\n",
            "parmi lesquelles la nature des investissements réalisés. En effet, le Maroc a lancé\n",
            "depuis le début du millénaire un vaste programme d’infrastructures dont les\n",
            "retombées financières ne se matérialisent vraisemblablement qu’après des délais\n",
            "longs. Toutefois, force est de constater qu’en l’espace de plus de deux\n",
            "décennies, les résultats auraient dû commencer à être visibles.\n",
            "8Un autre fait stylisé est que l’investissement est tiré par un effort important de\n",
            "l’Etat, alors que le secteur privé continue de faire face à de nombreux défis dont\n",
            "le plus important, comme je l’ai mentionné à plusieurs reprises, reste l’état du\n",
            "tissu productif caractérisé par une forte fragmentation, une large dominance\n",
            "des TPE et un nombre relativement faible d’entreprises exportatrices.\n",
            "Selon l’édition 2020-2021 du rapport annuel de l’Observatoire Marocain de la\n",
            "TPME, 88% des entreprises sont des microentreprises qui ont un chiffre\n",
            "d’affaires inférieur à 3 millions de dirhams et 79% réalisent un chiffre d’affaires\n",
            "de moins d’un million de dirhams. De son côté, l’Office des Changes indique\n",
            "que le nombre d’entreprises exportatrices actives n’a pas dépassé 4309 en 2019.\n",
            "Pour ce qui est de la capacité d’investissement, les données de l’enquête du\n",
            "HCP auprès des entreprises menée la même année révèlent que seule une TPE\n",
            "sur trois déclare avoir réalisé un investissement entre 2016 et 2018, contre une\n",
            "PME sur deux et huit grandes entreprises sur dix.\n",
            "Lorsqu’on interroge les entreprises sur les obstacles à leurs développements,\n",
            "elles évoquent en premier lieu, selon l’édition 2019 de l’enquête de la Banque\n",
            "mondiale sur les entreprises, la diffusion de la corruption, un domaine où le\n",
            "Maroc peine à enregistrer des progrès. En effet, selon le dernier classement de\n",
            "Transparency International, il a accusé un recul pour la quatrième année\n",
            "consécutive, passant de la 73ème place en 2018 à la 94ème en 2022.\n",
            "9Le deuxième obstacle le plus cité est lié à la pression et à la lourdeur fiscales.\n",
            "Certes, la baisse de la pression reste difficile à envisager sans l’élargissement de\n",
            "l’assiette, mais des efforts importants sont consentis dans ce sens surtout avec\n",
            "la mise en œuvre de la loi cadre sur la fiscalité. Sur le volet procédures, des\n",
            "avancées notables sont réalisées avec le processus de digitalisation amorcé par\n",
            "l’administration fiscale.\n",
            "Les entreprises mentionnent également la concurrence déloyale des activités\n",
            "informelles, une problématique sur laquelle les progrès demeurent difficiles.\n",
            "Dans certains secteurs, de par sa dominance, l’informalité est souvent un choix\n",
            "volontaire perçu comme inévitable. A titre d’exemple, nous avons à Bank Al-\n",
            "Maghrib dans le cadre des efforts pour promouvoir l’utilisation du paiement\n",
            "mobile, constaté une très forte réticence des acteurs de proximité qui\n",
            "s’expliquerait par la crainte de la traçabilité fiscale.\n",
            "Il n’y a pas de données officielles actualisées sur l’ampleur du phénomène, mais\n",
            "plusieurs études montrent que les activités informelles restent largement\n",
            "répandues, avec un poids variant entre 11,5% du PIB selon les statistiques du\n",
            "HCP datant de 2013 et près de 30% si on adopte une définition plus large\n",
            "intégrant la production souterraine et illégale. En termes d’emplois, certaines\n",
            "estimations font ressortir un poids de près de 80%.\n",
            "10Les délais de paiement constituent un autre obstacle pour les entreprises,\n",
            "notamment les TPME. Les chiffres relatifs à l’exercice de 2019 élaborés par\n",
            "Bank AL-Maghrib sur la base des données de l’OMPIC indiquent que plus de\n",
            "la moitié des entreprises marocaines sont payées après le délai réglementaire de\n",
            "60 jours et 35% dans des délais supérieurs à 120 jours.\n",
            "Durant les dernières années, les autorités ont déployé un effort important sur\n",
            "les plans réglementaire et opérationnel à travers notamment l’harmonisation\n",
            "des délais à 60 jours pour l’ensemble de la commande publique, la mise en place\n",
            "de plateformes électroniques dédiées aux réclamations et au dépôt de leurs\n",
            "factures ainsi que la création de l’Observatoire sur les Délais de Paiement. En\n",
            "septembre dernier, un projet de loi a été adopté pour remédier à certaines\n",
            "insuffisances du dispositif légal en vigueur incluant en particulier l’instauration\n",
            "d’une amende pécuniaire associée à l’obligation pour l’entreprise de déclarer\n",
            "annuellement par voie électronique la situation de paiement de ses factures.\n",
            "Mesdames et Messieurs,\n",
            "L’un des obstacles également évoqués par les entreprises et de manière\n",
            "récurrente est l’accès au financement. Selon les données d’une enquête menée\n",
            "par le HCP en 2019, 69% des TPME auraient rencontré des difficultés à cet\n",
            "égard. Les données de l’enquête de la Banque mondiale montrent, en revanche,\n",
            "une situation meilleure et en amélioration.\n",
            "11Dans l’édition 2019 de cette enquête, seules 4% des entreprises évoquent ce\n",
            "facteur comme principale entrave à leur développement contre 9,8% en 2013,\n",
            "ce qui relègue ce facteur au 8ème rang, au lieu du 4ème, des obstacles cités.\n",
            "Dans l’enquête de conjoncture de BAM dans l’industrie, les données relatives\n",
            "au quatrième trimestre 2022 indiquent que 9 entreprises sur 10 jugent l’accès\n",
            "au financement bancaire « normal » et 6 sur 10 considèrent que le coût du crédit\n",
            "aurait été en stagnation d’un trimestre à l’autre.\n",
            "Mais au-delà des conditions d’accès au crédit, le véritable problème réside dans\n",
            "le faible recours des entreprises au financement externe. Les données de\n",
            "l’Observatoire Marocain de la TPME montrent en effet la prédominance de\n",
            "l’autofinancement, la dette financière des entreprises ne représentant que moins\n",
            "du cinquième en 2020 (19%). En comparaison internationale, cette part ressort\n",
            "inférieure à celles enregistrées dans des pays comme la Pologne (23%),\n",
            "l’Espagne (34%), la France (38%) ou encore l’Allemagne (44%). En outre, cette\n",
            "dette financière est constituée quasi-exclusivement par le crédit bancaire, alors\n",
            "que le recours aux émissions sur le marché de la dette privée reste faible et\n",
            "dominé par les établissements à caractère financier et quelques grandes\n",
            "entreprises.\n",
            "12Au niveau de Bank Al-Maghrib, nous avons fait de l’amélioration de l’accès au\n",
            "financement une de nos actions prioritaires et travaillons sur tous les volets à\n",
            "cet égard. Depuis plusieurs années, la Banque poursuit une politique non\n",
            "conventionnelle visant à faciliter l’accès au financement. Le temps ne permet\n",
            "pas de détailler tout ce que la Banque fait dans ce sens, mais je citerais à titre\n",
            "d’exemple la mise en place depuis 2013 d’un programme de soutien dédié aux\n",
            "TPME et la création d’un fonds de soutien destiné au cofinancement des\n",
            "TPME connaissant des difficultés passagères. Dans le même sens, je\n",
            "rappellerais tous ce qui a été fait en réponse à l’appel de Sa Majesté le Roi lors\n",
            "de son discours du 11 octobre 2019, par le Gouvernement et BAM en\n",
            "collaboration avec le système bancaire dans le cadre du programme dénommé\n",
            "Intelaka.\n",
            "Durant la pandémie, BAM a mis en place une réponse complète comprenant\n",
            "des assouplissements prudentiels, des lignes de refinancements dédiées, des\n",
            "réductions du taux directeur, des injections massives de liquidités, des mesures\n",
            "pour faciliter la transmission de la politique monétaire et pour la protection de\n",
            "la clientèle bancaire. J’ai eu l’occasion de présenter en détail l’ensemble de ces\n",
            "mesures devant la Commission des finances et du développement économique\n",
            "de la Chambre des Représentants en novembre 2020.\n",
            "13Ces derniers mois, au regard de l’accélération de l’inflation, la Banque a\n",
            "augmenté son taux directeur à deux reprises depuis septembre dernier. Certes,\n",
            "ce sont des actions de resserrement, mais il faudrait souligner que les conditions\n",
            "monétaires restent largement accommodantes. Avec un taux directeur à 2,5%\n",
            "à fin 2022 et une inflation à 6,6% en moyenne sur l’année, les taux d’intérêt\n",
            "ressortent négatifs en termes réels.\n",
            "Pour assurer une meilleure transmission de ses décisions, la Banque assure un\n",
            "suivi étroit à travers un ensemble d’enquêtes et de reportings réguliers, mais\n",
            "aussi un dialogue permanent avec le système bancaire. Je tiens moi-même une\n",
            "fois par semestre et à chaque fois que de besoin des réunions avec les présidents\n",
            "des banques et après chaque réunion du Conseil, BAM tient une rencontre avec\n",
            "les directeurs généraux des banques,...\n",
            "De plus, nous suivons les conditions de crédit à travers deux reportings\n",
            "trimestriels, l’un sur les taux débiteurs, l’autre sur les conditions d’offre et\n",
            "l’évolution de la demande. Nous veillons à une concurrence saine entre les\n",
            "banques et nous avons instauré de nombreuses directives dans ce sens, portant\n",
            "en particulier, sur la mobilité et la mainlevée, et sommes en train de finaliser\n",
            "avec le GPBM un comparateur des conditions tarifaires pour davantage de\n",
            "transparence.\n",
            "14A travers toutes ces actions, nous essayons de pousser vers un changement de\n",
            "culture pour que la banque finance plutôt le projet que la personne. Les\n",
            "difficultés sont nombreuses dans ce sens, liées notamment à l’insuffisance de la\n",
            "transparence financière et la qualité de l’entrepreneuriat en particulier pour les\n",
            "TPE, mais aussi à la complexité des procédures judiciaires et aux délais de\n",
            "recouvrement des créances. Il est à rappeler que le taux de ces créances qui sont\n",
            "en souffrance a atteint à fin décembre 8,4% globalement et 11,7% pour les\n",
            "entreprises privées, sachant qu’il était à des niveaux inférieurs à 5% en 2011.\n",
            "Il importe de souligner sur ce registre que depuis la crise financière de 2008, les\n",
            "systèmes financiers notamment bancaires à travers le monde font face, en plus\n",
            "des risques émergents, à un véritable déluge réglementaire et prudentiel (règles\n",
            "de Basel, les normes du GAFI pour la lutte contre le blanchiment et le\n",
            "financement du terrorisme, nouvelles normes comptables,…). BAM est, bien\n",
            "sûr, amenée à transposer ces resserrements règlementaires, mais elle le fait selon\n",
            "une démarche basée sur la gradualité, la souplesse, la concertation et l’étude\n",
            "d’impact.\n",
            "Dans cette même optique, nous œuvrons pour le rapprochement\n",
            "Banques/entreprises pour une meilleure compréhension des positions\n",
            "mutuelles.\n",
            "15Nous avons ainsi pris l’initiative d’organiser une première réunion tripartite\n",
            "BAM-CGEM-GPBM en 2016 qui a débouché sur plusieurs engagements des\n",
            "parties prenantes et un mémorandum adressé au Chef du gouvernement. La\n",
            "deuxième, tenue en 2019, a été l’occasion de dresser le bilan des actions\n",
            "engagées et d’examiner de nouvelles mesures pour améliorer le financement\n",
            "des entreprises.\n",
            "L’année dernière, BAM a également réuni le GPBM avec la Commission des\n",
            "Finances et du Développement Economique au sein de la Chambre des\n",
            "Représentants, puis avec la même Commission relevant de la Chambre des\n",
            "Conseillers pour un dialogue qui s’est avéré encore difficile mais de moins en\n",
            "moins conflictuel.\n",
            "Enfin, il est à rappeler également que BAM contribue à l’élaboration et à la mise\n",
            "en œuvre des réformes visant l’approfondissement du système financier et\n",
            "l’amélioration de l’environnement des affaires. Je citerais à titre illustratif la\n",
            "création du registre national des sûretés mobilières, le développement de\n",
            "l’activité de la finance participative, la mise en place du cadre régissant le\n",
            "financement collaboratif (Crowdfunding), la réforme de la microfinance, la\n",
            "création d’un marché secondaire des créances en souffrance,…\n",
            "16Mesdames et Messieurs,\n",
            "Au regard des données que je viens d’évoquer sur la répartition territoriale de\n",
            "la croissance, l’on comprend pourquoi le développement au niveau territorial\n",
            "fait partie des principales préoccupations des pouvoirs publics ces deux\n",
            "dernières décennies. Sa Majesté en a fait un de ses chantiers de règne avec le\n",
            "lancement en 2008 de la régionalisation avancée. Le Maroc a enregistré\n",
            "certaines réussites éclatantes, comme l’illustre l’essor que connait la région de\n",
            "Tanger surtout depuis l’installation de l’usine de Renault et la construction du\n",
            "port de Tanger Med devenu aujourd’hui une fierté nationale. Un essor\n",
            "semblable serait en train de se matérialiser au niveau d’autres villes dont en\n",
            "particulier Nador et Dakhla avec des projets d’envergure de construction de\n",
            "nouveaux ports et d’aménagement urbain et touristique.\n",
            "Ce chantier de la régionalisation avancée a connu certes des progrès notables\n",
            "dans sa mise en œuvre, mais son aboutissement final fait face à plusieurs défis\n",
            "liés notamment à la disponibilité des compétences nécessaires à la gestion de la\n",
            "chose publique, à la coordination entre les échelons local et central de\n",
            "l’Administration, ainsi qu’au développement de sources de financement\n",
            "propres aux collectivités territoriales.\n",
            "17Sur ce même registre, la charte de la déconcentration administrative, censée\n",
            "renforcer l’autonomisation de la prise de décision au niveau local et favoriser\n",
            "l’émergence de pôles économiques régionaux, accuse un retard dans sa mise en\n",
            "œuvre. Cela a amené Sa Majesté dans son dernier discours au Parlement à\n",
            "appeler à la mobilisation pour son aboutissement effectif.\n",
            "De même, malgré les efforts consentis, la réforme des CRI peine à identifier le\n",
            "modèle d’affaires et le mode de gouvernance les plus appropriés pour en faire\n",
            "de véritables facilitateurs de l’acte d’investir au niveau régional.\n",
            "Toutefois, l’appel que Sa Majesté a réitéré à ce sujet au mois d’octobre, et\n",
            "l’annonce qui s’en est suivie en janvier dernier par le Chef du gouvernement de\n",
            "placer les CRI sous sa tutelle directe, laissent espérer une nouvelle dynamique\n",
            "de ces institutions. Elles pourraient ainsi jouer le rôle voulu par Sa Majesté de\n",
            "superviser l’intégralité du processus d’investissement, d’en accroître l’efficience\n",
            "et d’assurer de meilleurs services d’accompagnement et d’encadrement au\n",
            "profit des porteurs de projets, jusqu’à leurs concrétisations finales.\n",
            "Mesdames et Messieurs,\n",
            "Compte tenu de la décélération de la croissance et dans un contexte de pression\n",
            "sur les ressources publiques, avec les nombreux chantiers sociaux budgétivores\n",
            "en cours, le secteur privé est appelé plus que jamais à assumer son rôle principal\n",
            "d’investisseur, de créateur de richesses et d’emplois.\n",
            "18Cette orientation n’est pas propre au Maroc. Le dernier rapport de la Banque\n",
            "mondiale sur les perspectives économiques prévoit que dans les pays émergents\n",
            "et en voie de développement, le rythme de l’investissement devrait demeurer à\n",
            "moyen terme en deçà des niveaux d’avant pandémie, ce qui ne manquerait pas\n",
            "d’affecter la croissance potentielle et le commerce, rendant ainsi plus difficile la\n",
            "réalisation des objectifs en matière de développement durable.\n",
            "Toutefois, dans notre pays, la promotion de l’investissement est hissée\n",
            "aujourd’hui au premier plan de l’agenda des autorités publiques et est suivie par\n",
            "Sa Majesté Elle-même comme l’illustre la place qu’Elle lui a accordée dans son\n",
            "discours d’octobre dernier.\n",
            "Sur le plan opérationnel, je rappellerais le plan de relance post-Covid de 120\n",
            "milliards de dirhams, la création du fonds Mohammed VI pour l’investissement\n",
            "désormais opérationnel, la réforme en cours des établissements et entreprises\n",
            "publics, la nouvelle charte d’investissement avec des apports substantiels que\n",
            "M. le ministre ne manquera certainement pas de détailler dans sa présentation.\n",
            "Outre ces instruments et la mise en œuvre de réformes structurelles touchant\n",
            "les secteurs essentiels (enseignement, justice, protection sociale, santé,…), le\n",
            "Maroc dispose ainsi d’atouts solides qui plus est sont garantis par sa stabilité\n",
            "politique, sa crédibilité auprès des investisseurs et des partenaires\n",
            "19internationaux, ses infrastructures de qualité, son système bancaire solide et\n",
            "résilient...\n",
            "Au regard de cette détermination et de ces moyens, et avec une mobilisation\n",
            "harmonieuse de toutes les parties prenantes dans un cadre fédérateur, en\n",
            "l’occurrence le « Pacte National d’Investissement » annoncé par Sa Majesté,\n",
            "l’objectif de 550 milliards de dirhams d’investissements et de 500 mille emplois\n",
            "à l’horizon 2026 ne serait plus hors de portée, pavant le chemin vers la\n",
            "concrétisation à terme de l’ambition de l’émergence économique et sociale de\n",
            "notre pays.\n",
            "Je vous remercie.\n",
            "20\n"
          ]
        }
      ]
    },
    {
      "cell_type": "markdown",
      "source": [
        "## LexRank et TextRank avec `SUMY`"
      ],
      "metadata": {
        "id": "w3nW6EKrNq6d"
      }
    },
    {
      "cell_type": "markdown",
      "source": [
        "*   Documentation: https://pypi.org/project/sumy/ (Consulté le 13/03/2023)\n",
        "*   Il est possible de tester la bibliothèque directement sur HuggingFace:\n",
        "https://huggingface.co/spaces/issam9/sumy_space  (Consulté le 13/03/2023)"
      ],
      "metadata": {
        "id": "nAl1LXQSZXiv"
      }
    },
    {
      "cell_type": "code",
      "source": [
        "!pip install sumy # Téléchargement et installation"
      ],
      "metadata": {
        "colab": {
          "base_uri": "https://localhost:8080/"
        },
        "id": "-jha7iSudBM-",
        "outputId": "d110d31b-29f8-41fb-e43b-0ee9c347d61d"
      },
      "execution_count": null,
      "outputs": [
        {
          "output_type": "stream",
          "name": "stdout",
          "text": [
            "Collecting sumy\n",
            "  Downloading sumy-0.11.0-py2.py3-none-any.whl (97 kB)\n",
            "\u001b[?25l     \u001b[90m━━━━━━━━━━━━━━━━━━━━━━━━━━━━━━━━━━━━━━━━\u001b[0m \u001b[32m0.0/97.3 kB\u001b[0m \u001b[31m?\u001b[0m eta \u001b[36m-:--:--\u001b[0m\r\u001b[2K     \u001b[91m━━━━━━━━━━━━━━━━━━━━━━━━━━━━━━━━━━━━━\u001b[0m\u001b[91m╸\u001b[0m\u001b[90m━━\u001b[0m \u001b[32m92.2/97.3 kB\u001b[0m \u001b[31m2.8 MB/s\u001b[0m eta \u001b[36m0:00:01\u001b[0m\r\u001b[2K     \u001b[90m━━━━━━━━━━━━━━━━━━━━━━━━━━━━━━━━━━━━━━━━\u001b[0m \u001b[32m97.3/97.3 kB\u001b[0m \u001b[31m2.3 MB/s\u001b[0m eta \u001b[36m0:00:00\u001b[0m\n",
            "\u001b[?25hCollecting docopt<0.7,>=0.6.1 (from sumy)\n",
            "  Downloading docopt-0.6.2.tar.gz (25 kB)\n",
            "  Preparing metadata (setup.py) ... \u001b[?25l\u001b[?25hdone\n",
            "Collecting breadability>=0.1.20 (from sumy)\n",
            "  Downloading breadability-0.1.20.tar.gz (32 kB)\n",
            "  Preparing metadata (setup.py) ... \u001b[?25l\u001b[?25hdone\n",
            "Requirement already satisfied: requests>=2.7.0 in /usr/local/lib/python3.10/dist-packages (from sumy) (2.31.0)\n",
            "Collecting pycountry>=18.2.23 (from sumy)\n",
            "  Downloading pycountry-22.3.5.tar.gz (10.1 MB)\n",
            "\u001b[2K     \u001b[90m━━━━━━━━━━━━━━━━━━━━━━━━━━━━━━━━━━━━━━━━\u001b[0m \u001b[32m10.1/10.1 MB\u001b[0m \u001b[31m59.6 MB/s\u001b[0m eta \u001b[36m0:00:00\u001b[0m\n",
            "\u001b[?25h  Installing build dependencies ... \u001b[?25l\u001b[?25hdone\n",
            "  Getting requirements to build wheel ... \u001b[?25l\u001b[?25hdone\n",
            "  Preparing metadata (pyproject.toml) ... \u001b[?25l\u001b[?25hdone\n",
            "Requirement already satisfied: nltk>=3.0.2 in /usr/local/lib/python3.10/dist-packages (from sumy) (3.8.1)\n",
            "Requirement already satisfied: chardet in /usr/local/lib/python3.10/dist-packages (from breadability>=0.1.20->sumy) (5.2.0)\n",
            "Requirement already satisfied: lxml>=2.0 in /usr/local/lib/python3.10/dist-packages (from breadability>=0.1.20->sumy) (4.9.3)\n",
            "Requirement already satisfied: click in /usr/local/lib/python3.10/dist-packages (from nltk>=3.0.2->sumy) (8.1.7)\n",
            "Requirement already satisfied: joblib in /usr/local/lib/python3.10/dist-packages (from nltk>=3.0.2->sumy) (1.3.2)\n",
            "Requirement already satisfied: regex>=2021.8.3 in /usr/local/lib/python3.10/dist-packages (from nltk>=3.0.2->sumy) (2023.6.3)\n",
            "Requirement already satisfied: tqdm in /usr/local/lib/python3.10/dist-packages (from nltk>=3.0.2->sumy) (4.66.1)\n",
            "Requirement already satisfied: setuptools in /usr/local/lib/python3.10/dist-packages (from pycountry>=18.2.23->sumy) (67.7.2)\n",
            "Requirement already satisfied: charset-normalizer<4,>=2 in /usr/local/lib/python3.10/dist-packages (from requests>=2.7.0->sumy) (3.3.2)\n",
            "Requirement already satisfied: idna<4,>=2.5 in /usr/local/lib/python3.10/dist-packages (from requests>=2.7.0->sumy) (3.4)\n",
            "Requirement already satisfied: urllib3<3,>=1.21.1 in /usr/local/lib/python3.10/dist-packages (from requests>=2.7.0->sumy) (2.0.7)\n",
            "Requirement already satisfied: certifi>=2017.4.17 in /usr/local/lib/python3.10/dist-packages (from requests>=2.7.0->sumy) (2023.7.22)\n",
            "Building wheels for collected packages: breadability, docopt, pycountry\n",
            "  Building wheel for breadability (setup.py) ... \u001b[?25l\u001b[?25hdone\n",
            "  Created wheel for breadability: filename=breadability-0.1.20-py2.py3-none-any.whl size=21692 sha256=1dca0b26bfe0a4b547878c019b774daa3cb05d777a46c770ce9b2dfaa3d355b3\n",
            "  Stored in directory: /root/.cache/pip/wheels/64/22/90/b84fcc30e16598db20a0d41340616dbf9b1e82bbcc627b0b33\n",
            "  Building wheel for docopt (setup.py) ... \u001b[?25l\u001b[?25hdone\n",
            "  Created wheel for docopt: filename=docopt-0.6.2-py2.py3-none-any.whl size=13706 sha256=6915210b1d15e1883e4e18e6224cf006b614085f494b6b9fe866f57cc784bc68\n",
            "  Stored in directory: /root/.cache/pip/wheels/fc/ab/d4/5da2067ac95b36618c629a5f93f809425700506f72c9732fac\n",
            "  Building wheel for pycountry (pyproject.toml) ... \u001b[?25l\u001b[?25hdone\n",
            "  Created wheel for pycountry: filename=pycountry-22.3.5-py2.py3-none-any.whl size=10681832 sha256=c31af6e3bb126b0fbdcf914705ab82e0cb2557a62bef3821aafc233e1e7e3d35\n",
            "  Stored in directory: /root/.cache/pip/wheels/03/57/cc/290c5252ec97a6d78d36479a3c5e5ecc76318afcb241ad9dbe\n",
            "Successfully built breadability docopt pycountry\n",
            "Installing collected packages: docopt, pycountry, breadability, sumy\n",
            "Successfully installed breadability-0.1.20 docopt-0.6.2 pycountry-22.3.5 sumy-0.11.0\n"
          ]
        }
      ]
    },
    {
      "cell_type": "code",
      "source": [
        "# importation\n",
        "from sumy.parsers.plaintext import PlaintextParser\n",
        "from sumy.nlp.tokenizers import Tokenizer"
      ],
      "metadata": {
        "id": "MivEcJV0PKfY"
      },
      "execution_count": null,
      "outputs": []
    },
    {
      "cell_type": "markdown",
      "source": [
        "### LexRank"
      ],
      "metadata": {
        "id": "fpVaZXCxPggo"
      }
    },
    {
      "cell_type": "markdown",
      "source": [
        "### En utilisant l’implémentation de l’algorithme `LexRank` sous `sumy`, donner un résumé du document. On fixe le nombre de phrases constituant le résumé à 4 (`NUM_SENTENCES`=4).\n",
        "https://www.cs.cmu.edu/afs/cs/project/jair/pub/volume22/erkan04a-html/erkan04a.html\n"
      ],
      "metadata": {
        "id": "uLr6viplBBJ8"
      }
    },
    {
      "cell_type": "code",
      "source": [
        "import nltk\n",
        "nltk.download('punkt')"
      ],
      "metadata": {
        "id": "IZ613xjcuMs7",
        "outputId": "d4e57052-2c85-412b-d306-166f55003cb6",
        "colab": {
          "base_uri": "https://localhost:8080/"
        }
      },
      "execution_count": null,
      "outputs": [
        {
          "output_type": "stream",
          "name": "stderr",
          "text": [
            "[nltk_data] Downloading package punkt to /root/nltk_data...\n",
            "[nltk_data]   Unzipping tokenizers/punkt.zip.\n"
          ]
        },
        {
          "output_type": "execute_result",
          "data": {
            "text/plain": [
              "True"
            ]
          },
          "metadata": {},
          "execution_count": 11
        }
      ]
    },
    {
      "cell_type": "code",
      "source": [
        "from sumy.summarizers.lex_rank import LexRankSummarizer\n",
        "NUM_SENTENCES= 4\n",
        "\n",
        "def generate_summary(text):\n",
        "    parser = PlaintextParser.from_string(text, Tokenizer(\"french\"))\n",
        "    summarizer = LexRankSummarizer()\n",
        "\n",
        "    summary = summarizer(parser.document, NUM_SENTENCES)\n",
        "    return ' '.join([str(sentence) for sentence in summary])\n",
        "\n",
        "# Génération du résumé\n",
        "summary = generate_summary(doc)\n",
        "print(summary)"
      ],
      "metadata": {
        "id": "fsr8YQqNtNIJ",
        "outputId": "461710f8-149b-45ee-ecbf-59861fe3f154",
        "colab": {
          "base_uri": "https://localhost:8080/"
        }
      },
      "execution_count": null,
      "outputs": [
        {
          "output_type": "stream",
          "name": "stdout",
          "text": [
            "Mesdames et Messieurs, Au cours des deux dernières décennies, notre pays a consenti un effort important en matière d’investissement qui atteint, selon les données des comptes nationaux, autour de 30% du PIB. 8Un autre fait stylisé est que l’investissement est tiré par un effort important de l’Etat, alors que le secteur privé continue de faire face à de nombreux défis dont le plus important, comme je l’ai mentionné à plusieurs reprises, reste l’état du tissu productif caractérisé par une forte fragmentation, une large dominance des TPE et un nombre relativement faible d’entreprises exportatrices. Avec un taux directeur à 2,5% à fin 2022 et une inflation à 6,6% en moyenne sur l’année, les taux d’intérêt ressortent négatifs en termes réels. Outre ces instruments et la mise en œuvre de réformes structurelles touchant les secteurs essentiels (enseignement, justice, protection sociale, santé,…), le Maroc dispose ainsi d’atouts solides qui plus est sont garantis par sa stabilité politique, sa crédibilité auprès des investisseurs et des partenaires 19internationaux, ses infrastructures de qualité, son système bancaire solide et résilient... Au regard de cette détermination et de ces moyens, et avec une mobilisation harmonieuse de toutes les parties prenantes dans un cadre fédérateur, en l’occurrence le « Pacte National d’Investissement » annoncé par Sa Majesté, l’objectif de 550 milliards de dirhams d’investissements et de 500 mille emplois à l’horizon 2026 ne serait plus hors de portée, pavant le chemin vers la concrétisation à terme de l’ambition de l’émergence économique et sociale de notre pays.\n"
          ]
        }
      ]
    },
    {
      "cell_type": "markdown",
      "source": [
        "###En utilisant l’implémentation de l’algorithme TexRank sous sumy, donner un résumé du document. On fixe le nombre de phrases constituant le résumé à 4 (NUM_SENTENCES=4)."
      ],
      "metadata": {
        "id": "6eOKqcopPZFU"
      }
    },
    {
      "cell_type": "markdown",
      "source": [
        "### TextRank"
      ],
      "metadata": {
        "id": "RB-eNm-6PkSY"
      }
    },
    {
      "cell_type": "code",
      "source": [
        "from sumy.summarizers.text_rank import TextRankSummarizer\n",
        "NUM_SENTENCES= 4\n",
        "\n",
        "def generate_summary(text):\n",
        "    parser = PlaintextParser.from_string(text, Tokenizer(\"french\"))\n",
        "    summarizer = TextRankSummarizer()\n",
        "\n",
        "    summary = summarizer(parser.document, NUM_SENTENCES)\n",
        "    return ' '.join([str(sentence) for sentence in summary])\n",
        "\n",
        "# Génération du résumé\n",
        "summary = generate_summary(doc)\n",
        "print(summary)"
      ],
      "metadata": {
        "id": "5VKm3Icuuril",
        "outputId": "166308de-79f4-4ffe-d87e-82adf5230184",
        "colab": {
          "base_uri": "https://localhost:8080/"
        }
      },
      "execution_count": null,
      "outputs": [
        {
          "output_type": "stream",
          "name": "stdout",
          "text": [
            "Durant les dernières années, les autorités ont déployé un effort important sur les plans réglementaire et opérationnel à travers notamment l’harmonisation des délais à 60 jours pour l’ensemble de la commande publique, la mise en place de plateformes électroniques dédiées aux réclamations et au dépôt de leurs factures ainsi que la création de l’Observatoire sur les Délais de Paiement. Je tiens moi-même une fois par semestre et à chaque fois que de besoin des réunions avec les présidents des banques et après chaque réunion du Conseil, BAM tient une rencontre avec les directeurs généraux des banques,... De plus, nous suivons les conditions de crédit à travers deux reportings trimestriels, l’un sur les taux débiteurs, l’autre sur les conditions d’offre et l’évolution de la demande. Je citerais à titre illustratif la création du registre national des sûretés mobilières, le développement de l’activité de la finance participative, la mise en place du cadre régissant le financement collaboratif (Crowdfunding), la réforme de la microfinance, la création d’un marché secondaire des créances en souffrance,… 16Mesdames et Messieurs, Au regard des données que je viens d’évoquer sur la répartition territoriale de la croissance, l’on comprend pourquoi le développement au niveau territorial fait partie des principales préoccupations des pouvoirs publics ces deux dernières décennies. Outre ces instruments et la mise en œuvre de réformes structurelles touchant les secteurs essentiels (enseignement, justice, protection sociale, santé,…), le Maroc dispose ainsi d’atouts solides qui plus est sont garantis par sa stabilité politique, sa crédibilité auprès des investisseurs et des partenaires 19internationaux, ses infrastructures de qualité, son système bancaire solide et résilient... Au regard de cette détermination et de ces moyens, et avec une mobilisation harmonieuse de toutes les parties prenantes dans un cadre fédérateur, en l’occurrence le « Pacte National d’Investissement » annoncé par Sa Majesté, l’objectif de 550 milliards de dirhams d’investissements et de 500 mille emplois à l’horizon 2026 ne serait plus hors de portée, pavant le chemin vers la concrétisation à terme de l’ambition de l’émergence économique et sociale de notre pays.\n"
          ]
        }
      ]
    },
    {
      "cell_type": "markdown",
      "source": [
        "## Génération de résumés pour des textes en Anglais avec `gensim`\n"
      ],
      "metadata": {
        "id": "YFBqtvXCVNQO"
      }
    },
    {
      "cell_type": "code",
      "source": [
        "!pip install wikipedia"
      ],
      "metadata": {
        "colab": {
          "base_uri": "https://localhost:8080/"
        },
        "id": "sGISy3piH41K",
        "outputId": "43885d7e-0412-4a02-aa29-6391fd8f5ea4"
      },
      "execution_count": null,
      "outputs": [
        {
          "output_type": "stream",
          "name": "stdout",
          "text": [
            "Collecting wikipedia\n",
            "  Downloading wikipedia-1.4.0.tar.gz (27 kB)\n",
            "  Preparing metadata (setup.py) ... \u001b[?25l\u001b[?25hdone\n",
            "Requirement already satisfied: beautifulsoup4 in /usr/local/lib/python3.10/dist-packages (from wikipedia) (4.11.2)\n",
            "Requirement already satisfied: requests<3.0.0,>=2.0.0 in /usr/local/lib/python3.10/dist-packages (from wikipedia) (2.31.0)\n",
            "Requirement already satisfied: charset-normalizer<4,>=2 in /usr/local/lib/python3.10/dist-packages (from requests<3.0.0,>=2.0.0->wikipedia) (3.3.2)\n",
            "Requirement already satisfied: idna<4,>=2.5 in /usr/local/lib/python3.10/dist-packages (from requests<3.0.0,>=2.0.0->wikipedia) (3.4)\n",
            "Requirement already satisfied: urllib3<3,>=1.21.1 in /usr/local/lib/python3.10/dist-packages (from requests<3.0.0,>=2.0.0->wikipedia) (2.0.7)\n",
            "Requirement already satisfied: certifi>=2017.4.17 in /usr/local/lib/python3.10/dist-packages (from requests<3.0.0,>=2.0.0->wikipedia) (2023.7.22)\n",
            "Requirement already satisfied: soupsieve>1.2 in /usr/local/lib/python3.10/dist-packages (from beautifulsoup4->wikipedia) (2.5)\n",
            "Building wheels for collected packages: wikipedia\n",
            "  Building wheel for wikipedia (setup.py) ... \u001b[?25l\u001b[?25hdone\n",
            "  Created wheel for wikipedia: filename=wikipedia-1.4.0-py3-none-any.whl size=11679 sha256=9e0926fb31307e8e1e73092718bda110dbd3c9fe179d2c51cce1b1f0775da066\n",
            "  Stored in directory: /root/.cache/pip/wheels/5e/b6/c5/93f3dec388ae76edc830cb42901bb0232504dfc0df02fc50de\n",
            "Successfully built wikipedia\n",
            "Installing collected packages: wikipedia\n",
            "Successfully installed wikipedia-1.4.0\n"
          ]
        }
      ]
    },
    {
      "cell_type": "code",
      "source": [
        "import wikipedia\n",
        "text= wikipedia.page(\"Marrakesh\").content"
      ],
      "metadata": {
        "id": "2EHnm64cXJvf"
      },
      "execution_count": null,
      "outputs": []
    },
    {
      "cell_type": "markdown",
      "source": [
        "### Utilisation de la bibliothèque `gensim` pour identifier `num_k` de mots clés dans le document."
      ],
      "metadata": {
        "id": "aG30PHHkZ7o_"
      }
    },
    {
      "cell_type": "code",
      "source": [
        "nltk.download('stopwords')"
      ],
      "metadata": {
        "id": "hHkigzX_zj23",
        "outputId": "41da270f-a98a-42da-d0bc-3aee06add528",
        "colab": {
          "base_uri": "https://localhost:8080/"
        }
      },
      "execution_count": null,
      "outputs": [
        {
          "output_type": "stream",
          "name": "stderr",
          "text": [
            "[nltk_data] Downloading package stopwords to /root/nltk_data...\n",
            "[nltk_data]   Unzipping corpora/stopwords.zip.\n"
          ]
        },
        {
          "output_type": "execute_result",
          "data": {
            "text/plain": [
              "True"
            ]
          },
          "metadata": {},
          "execution_count": 35
        }
      ]
    },
    {
      "cell_type": "code",
      "execution_count": null,
      "metadata": {
        "colab": {
          "base_uri": "https://localhost:8080/"
        },
        "id": "55d4eXpD_pDk",
        "outputId": "763022a4-6a65-418b-f05c-4ffd341f124d"
      },
      "outputs": [
        {
          "output_type": "stream",
          "name": "stdout",
          "text": [
            "['city', 'marrakesh', 'morocco', 'marrakech', 'also', 'mosque', 'one', 'moroccan', 'museum', 'ibn']\n"
          ]
        }
      ],
      "source": [
        "from nltk.tokenize import word_tokenize\n",
        "from nltk.corpus import stopwords\n",
        "from collections import Counter\n",
        "\n",
        "# Tokenisation des mots\n",
        "words = word_tokenize(text)\n",
        "\n",
        "# Suppression des mots vides (stop words)\n",
        "stop_words = set(stopwords.words('english'))\n",
        "filtered_words = [word.lower() for word in words if word.isalpha() and word.lower() not in stop_words]\n",
        "\n",
        "# Compter les occurrences de mots\n",
        "word_counter = Counter(filtered_words)\n",
        "\n",
        "# Extraire les 10 mots les plus fréquents comme mots-clés\n",
        "keywords = [word for word, _ in word_counter.most_common(10)]\n",
        "\n",
        "print(keywords)\n"
      ]
    },
    {
      "cell_type": "markdown",
      "source": [
        "### Utiliser l’implémentation de l’algorithme `TextRank` sous `gensim` pour donner un résumé d'un document en Anglais. La longueur du résumé représente un ratio `R` de la taille du document ou un nombre de mots `WORD_COUNT`\n"
      ],
      "metadata": {
        "id": "GvxDw3maAgVf"
      }
    },
    {
      "cell_type": "code",
      "source": [
        "from nltk.tokenize import sent_tokenize\n",
        "\n",
        "def generate_summary_by_word_count(text, word_count):\n",
        "    sentences = sent_tokenize(text)\n",
        "    words = text.split()\n",
        "    num_words = len(words)\n",
        "\n",
        "    # Calculate the words to keep for the summary\n",
        "    words_to_keep = word_count if word_count < num_words else num_words\n",
        "\n",
        "    # Create the summary\n",
        "    summary = ' '.join(words[:words_to_keep])\n",
        "\n",
        "    return summary\n",
        "\n",
        "\n",
        "\n",
        "WORD_COUNT = 50  # Define the desired word count for the summary\n",
        "summary_by_word_count = generate_summary_by_word_count(text, WORD_COUNT)\n",
        "\n",
        "print(summary_by_word_count)\n"
      ],
      "metadata": {
        "id": "2niNKyLayJ57",
        "outputId": "b56ea9dc-af9c-4679-dd90-c52052f17824",
        "colab": {
          "base_uri": "https://localhost:8080/"
        }
      },
      "execution_count": null,
      "outputs": [
        {
          "output_type": "stream",
          "name": "stdout",
          "text": [
            "Marrakesh or Marrakech ( or ; Arabic: مراكش, romanized: murrākuš, pronounced [murraːkuʃ]; Berber languages: ⵎⵕⵕⴰⴽⵛ, romanized: mṛṛakc) is the fourth largest city in Morocco. It is one of the four imperial cities of Morocco and the capital of the Marrakesh–Safi region. It is west of the foothills of the Atlas\n"
          ]
        }
      ]
    },
    {
      "cell_type": "markdown",
      "source": [
        "# 3. Evaluation des résumés produits avec les métriques ROUGE\n"
      ],
      "metadata": {
        "id": "H1E2NSYjCALH"
      }
    },
    {
      "cell_type": "markdown",
      "source": [
        "On suppose le résumé ci-dessous comme référence:"
      ],
      "metadata": {
        "id": "knx6TsuFGv__"
      }
    },
    {
      "cell_type": "code",
      "source": [
        "résumé= '''le Maroc consent un effort d’investissement important et constant,\n",
        "          mais qui donne lieu jusqu’à présent à une croissance économique insuffisante, en tendance baissière, avec un\n",
        "          contenu en emploi de plus en plus faible et dont les retombées ne profitent pas de la même manière à toutes les régions.\n",
        "          Plusieurs raisons peuvent être avancées pour justifier ce faible rendement, parmi lesquelles la nature des investissements réalisés.\n",
        "          Un autre fait stylisé est que l’investissement est tiré par un effort important de l’Etat,\n",
        "          alors que le secteur privé continue de faire face à de nombreux défis dont le plus important,\n",
        "          comme je l’ai mentionné à plusieurs reprises, reste l’état du tissu productif caractérisé par une forte fragmentation,\n",
        "          une large dominance des TPE et un nombre relativement faible d’entreprises exportatrices. '''"
      ],
      "metadata": {
        "id": "Am6Rreyrl1FB"
      },
      "execution_count": null,
      "outputs": []
    },
    {
      "cell_type": "markdown",
      "source": [
        "On utilise la bibliothèque rouge pour calculer ROUGE-1, ROUGE-2, ROUGE-L, afin d'évaluer \"résumé_auto\" par rapport à \"résumé\"\n",
        "\n",
        "https://pypi.org/project/rouge/"
      ],
      "metadata": {
        "id": "9At9ZuSbI-t8"
      }
    },
    {
      "cell_type": "markdown",
      "source": [
        "*   ROUGE-1= unigrames en commun\n",
        "*   ROUGE-2= Bigrams en commun\n",
        "*   ROUGE-L= la sous séquence la plus longue en commun (L pour longest)"
      ],
      "metadata": {
        "id": "9CpdDcHEbq4_"
      }
    },
    {
      "cell_type": "code",
      "source": [
        "!pip install rouge # téléchargement et installation"
      ],
      "metadata": {
        "colab": {
          "base_uri": "https://localhost:8080/"
        },
        "id": "9aMq6_jxot3s",
        "outputId": "04dbfa14-4bb6-4943-a364-ac3844f8b002"
      },
      "execution_count": null,
      "outputs": [
        {
          "output_type": "stream",
          "name": "stdout",
          "text": [
            "Collecting rouge\n",
            "  Downloading rouge-1.0.1-py3-none-any.whl (13 kB)\n",
            "Requirement already satisfied: six in /usr/local/lib/python3.10/dist-packages (from rouge) (1.16.0)\n",
            "Installing collected packages: rouge\n",
            "Successfully installed rouge-1.0.1\n"
          ]
        }
      ]
    },
    {
      "cell_type": "code",
      "source": [
        "# calculer les scores\n",
        "from rouge import Rouge\n",
        "\n",
        "# Initialisez l'instance ROUGE\n",
        "rouge = Rouge()\n",
        "\n",
        "# Calculez les scores ROUGE\n",
        "scores = rouge.get_scores(summary_by_word_count, résumé)\n",
        "\n",
        "# Afficher les scores ROUGE-1, ROUGE-2, ROUGE-L\n",
        "print(scores)\n"
      ],
      "metadata": {
        "id": "jASiF02TJbg9",
        "outputId": "fd2e392d-87a0-40fe-bd9e-7854a35f9c20",
        "colab": {
          "base_uri": "https://localhost:8080/"
        }
      },
      "execution_count": null,
      "outputs": [
        {
          "output_type": "stream",
          "name": "stdout",
          "text": [
            "[{'rouge-1': {'r': 0.0, 'p': 0.0, 'f': 0.0}, 'rouge-2': {'r': 0.0, 'p': 0.0, 'f': 0.0}, 'rouge-l': {'r': 0.0, 'p': 0.0, 'f': 0.0}}]\n"
          ]
        }
      ]
    },
    {
      "cell_type": "code",
      "source": [
        "#Afficher les scores\n",
        "print(\"Scores ROUGE:\")\n",
        "for metric, score in scores[0].items():\n",
        "    print(f\"{metric}:\")\n",
        "    print(f\"P: {score['p']:.4f}\")  # Precision\n",
        "    print(f\"R: {score['r']:.4f}\")  # Recall\n",
        "    print(f\"F1 Score: {score['f']:.4f}\")  # F1 Score\n",
        "    print()"
      ],
      "metadata": {
        "id": "8hLIDCVxJh8t",
        "colab": {
          "base_uri": "https://localhost:8080/"
        },
        "outputId": "1cc0a581-82ca-4424-eac8-1e40975fb843"
      },
      "execution_count": null,
      "outputs": [
        {
          "output_type": "stream",
          "name": "stdout",
          "text": [
            "Scores ROUGE:\n",
            "rouge-1:\n",
            "P: 0.0000\n",
            "R: 0.0000\n",
            "F1 Score: 0.0000\n",
            "\n",
            "rouge-2:\n",
            "P: 0.0000\n",
            "R: 0.0000\n",
            "F1 Score: 0.0000\n",
            "\n",
            "rouge-l:\n",
            "P: 0.0000\n",
            "R: 0.0000\n",
            "F1 Score: 0.0000\n",
            "\n"
          ]
        }
      ]
    },
    {
      "cell_type": "markdown",
      "source": [
        "# 2. Méthodes abstractives"
      ],
      "metadata": {
        "id": "KC2fzuvAe10e"
      }
    },
    {
      "cell_type": "code",
      "source": [
        "!pip install transformers"
      ],
      "metadata": {
        "colab": {
          "base_uri": "https://localhost:8080/"
        },
        "id": "sZE6LYD3fClX",
        "outputId": "1b36ee72-c77c-48ce-8f38-df17822131fd"
      },
      "execution_count": null,
      "outputs": [
        {
          "output_type": "stream",
          "name": "stdout",
          "text": [
            "Collecting transformers\n",
            "  Downloading transformers-4.35.0-py3-none-any.whl (7.9 MB)\n",
            "\u001b[2K     \u001b[90m━━━━━━━━━━━━━━━━━━━━━━━━━━━━━━━━━━━━━━━━\u001b[0m \u001b[32m7.9/7.9 MB\u001b[0m \u001b[31m17.0 MB/s\u001b[0m eta \u001b[36m0:00:00\u001b[0m\n",
            "\u001b[?25hRequirement already satisfied: filelock in /usr/local/lib/python3.10/dist-packages (from transformers) (3.13.1)\n",
            "Collecting huggingface-hub<1.0,>=0.16.4 (from transformers)\n",
            "  Downloading huggingface_hub-0.19.0-py3-none-any.whl (311 kB)\n",
            "\u001b[2K     \u001b[90m━━━━━━━━━━━━━━━━━━━━━━━━━━━━━━━━━━━━━━━━\u001b[0m \u001b[32m311.2/311.2 kB\u001b[0m \u001b[31m25.7 MB/s\u001b[0m eta \u001b[36m0:00:00\u001b[0m\n",
            "\u001b[?25hRequirement already satisfied: numpy>=1.17 in /usr/local/lib/python3.10/dist-packages (from transformers) (1.23.5)\n",
            "Requirement already satisfied: packaging>=20.0 in /usr/local/lib/python3.10/dist-packages (from transformers) (23.2)\n",
            "Requirement already satisfied: pyyaml>=5.1 in /usr/local/lib/python3.10/dist-packages (from transformers) (6.0.1)\n",
            "Requirement already satisfied: regex!=2019.12.17 in /usr/local/lib/python3.10/dist-packages (from transformers) (2023.6.3)\n",
            "Requirement already satisfied: requests in /usr/local/lib/python3.10/dist-packages (from transformers) (2.31.0)\n",
            "Collecting tokenizers<0.15,>=0.14 (from transformers)\n",
            "  Downloading tokenizers-0.14.1-cp310-cp310-manylinux_2_17_x86_64.manylinux2014_x86_64.whl (3.8 MB)\n",
            "\u001b[2K     \u001b[90m━━━━━━━━━━━━━━━━━━━━━━━━━━━━━━━━━━━━━━━━\u001b[0m \u001b[32m3.8/3.8 MB\u001b[0m \u001b[31m38.4 MB/s\u001b[0m eta \u001b[36m0:00:00\u001b[0m\n",
            "\u001b[?25hCollecting safetensors>=0.3.1 (from transformers)\n",
            "  Downloading safetensors-0.4.0-cp310-cp310-manylinux_2_17_x86_64.manylinux2014_x86_64.whl (1.3 MB)\n",
            "\u001b[2K     \u001b[90m━━━━━━━━━━━━━━━━━━━━━━━━━━━━━━━━━━━━━━━━\u001b[0m \u001b[32m1.3/1.3 MB\u001b[0m \u001b[31m41.9 MB/s\u001b[0m eta \u001b[36m0:00:00\u001b[0m\n",
            "\u001b[?25hRequirement already satisfied: tqdm>=4.27 in /usr/local/lib/python3.10/dist-packages (from transformers) (4.66.1)\n",
            "Requirement already satisfied: fsspec>=2023.5.0 in /usr/local/lib/python3.10/dist-packages (from huggingface-hub<1.0,>=0.16.4->transformers) (2023.6.0)\n",
            "Requirement already satisfied: typing-extensions>=3.7.4.3 in /usr/local/lib/python3.10/dist-packages (from huggingface-hub<1.0,>=0.16.4->transformers) (4.5.0)\n",
            "Collecting huggingface-hub<1.0,>=0.16.4 (from transformers)\n",
            "  Downloading huggingface_hub-0.17.3-py3-none-any.whl (295 kB)\n",
            "\u001b[2K     \u001b[90m━━━━━━━━━━━━━━━━━━━━━━━━━━━━━━━━━━━━━━━━\u001b[0m \u001b[32m295.0/295.0 kB\u001b[0m \u001b[31m33.0 MB/s\u001b[0m eta \u001b[36m0:00:00\u001b[0m\n",
            "\u001b[?25hRequirement already satisfied: charset-normalizer<4,>=2 in /usr/local/lib/python3.10/dist-packages (from requests->transformers) (3.3.2)\n",
            "Requirement already satisfied: idna<4,>=2.5 in /usr/local/lib/python3.10/dist-packages (from requests->transformers) (3.4)\n",
            "Requirement already satisfied: urllib3<3,>=1.21.1 in /usr/local/lib/python3.10/dist-packages (from requests->transformers) (2.0.7)\n",
            "Requirement already satisfied: certifi>=2017.4.17 in /usr/local/lib/python3.10/dist-packages (from requests->transformers) (2023.7.22)\n",
            "Installing collected packages: safetensors, huggingface-hub, tokenizers, transformers\n",
            "Successfully installed huggingface-hub-0.17.3 safetensors-0.4.0 tokenizers-0.14.1 transformers-4.35.0\n"
          ]
        }
      ]
    },
    {
      "cell_type": "code",
      "source": [
        "#!pip install Pillow==9.0.0\n",
        "from transformers import pipeline\n",
        "summarizer = pipeline(\"summarization\") # defaulted to https://huggingface.co/sshleifer/distilbart-cnn-12-6)\n",
        "\n",
        "\n"
      ],
      "metadata": {
        "id": "himhlzpae45W",
        "outputId": "62b0e7b1-7186-4c6c-f174-8bf3305e0dd0",
        "colab": {
          "base_uri": "https://localhost:8080/",
          "height": 249,
          "referenced_widgets": [
            "47219d0020b54be89c19a4ae7a0f457f",
            "2c181695a5744b4aa7754eedc202afd2",
            "e1c151bd9cb641be8c5bb79a587d4ca7",
            "b8aef6a84b9a44f3950ab233d7fa361f",
            "8322f4b62af64fc7ad9a043b3b943690",
            "873c71aa706e483883295b5fcdcb8245",
            "37ffbd5fb978497ebd4d18e248d5d99d",
            "77cfdf80c5104a578e8b82ac730a3bac",
            "5e08842e947042889c1b224932d06206",
            "cff651cbf1a948148bcf80b2b68285aa",
            "499a2683236a435d863932dd122d7f77",
            "cc1a72a85ae84bb4996d3d95eda8c999",
            "6fe9d56582704609bfd3c5e70feb33bb",
            "4e6ef7f4985741a6ba8078635470893b",
            "0db852877e2a47a7965615b12d90e4c6",
            "d6fe0524a2f84d9f80ffe7fc5005f810",
            "f1127b00049f45a19fe0f23dde9ad522",
            "1b11cb63c07c4e51b34b72cc99bcafae",
            "02d5a936407349b0804abc9e22c8bae2",
            "18a507b4fd9248cf8da3f5999fa8ad8f",
            "27240b6e67884b098049f83d5c33a7b8",
            "5e28ef597ff24a66bb6756ffbcac61a3",
            "61b0c2b811594a1e81048fe49bafd4a2",
            "3e4488963f70405ba4ac78c29d1bbce4",
            "2c650b402d2048aea49c590ce3a32537",
            "7db46c22485242a8a389c481fb401baa",
            "83394f59d32e4e4ebe58dc6d9715f806",
            "bed7db0a0151486f9dfdc2099b00c24a",
            "3b66934fc28149bea1776ca3073049e5",
            "a4adc94298174e869094779f6bfdfaa5",
            "d34460bf232f48beb51abd9452c2a874",
            "44e43190bf444d44a2186c6a59df2ff5",
            "59a0e8d56e8048d0b515f3969974a2cc",
            "d0b65fec1ef3490e947bf5f85b382044",
            "22535b73bf30487588463606b22c4b9c",
            "752b707720664de2b565ca16b13cafd7",
            "c960447d26ee4fcb868fef8d70c9224a",
            "76848cc3903a46c3ab17a115ddf23685",
            "9d3717943a0d402395d61b704898c8c3",
            "859a47eae975454d9b87796182b3ca6d",
            "efcebd9cc73a4696a871e39bbf0778bd",
            "8876bacf80cd47b59961f06007b79992",
            "08cc02254b0c496ca1435a63745a8de7",
            "4f52590191b04207a4fe578cb088bca4",
            "900fb5af4f8945be8b15d172297fc44e",
            "205aa54383904137a9f8081f42cc9d03",
            "179c2723e445420d8bfe5df835089675",
            "062f770bcd2c42288767deed6e894f20",
            "2087d526d3cc4ea2b8791092c01c3454",
            "0411c7c6bde34b5ea3cc55bb69d86da8",
            "5033e1ec7b9b48cda8139539be98dd66",
            "3b68ea47cdfd4f9cb2c9d4343a06c04f",
            "18c25993f98e4866bb5614fb9c4e94bf",
            "b618a8da1b76483abf62d61c1e7bbcd9",
            "0f27ed3e419f4421b3da7300dbdfeeea"
          ]
        }
      },
      "execution_count": null,
      "outputs": [
        {
          "output_type": "stream",
          "name": "stderr",
          "text": [
            "No model was supplied, defaulted to sshleifer/distilbart-cnn-12-6 and revision a4f8f3e (https://huggingface.co/sshleifer/distilbart-cnn-12-6).\n",
            "Using a pipeline without specifying a model name and revision in production is not recommended.\n"
          ]
        },
        {
          "output_type": "display_data",
          "data": {
            "text/plain": [
              "Downloading (…)lve/main/config.json:   0%|          | 0.00/1.80k [00:00<?, ?B/s]"
            ],
            "application/vnd.jupyter.widget-view+json": {
              "version_major": 2,
              "version_minor": 0,
              "model_id": "47219d0020b54be89c19a4ae7a0f457f"
            }
          },
          "metadata": {}
        },
        {
          "output_type": "display_data",
          "data": {
            "text/plain": [
              "Downloading pytorch_model.bin:   0%|          | 0.00/1.22G [00:00<?, ?B/s]"
            ],
            "application/vnd.jupyter.widget-view+json": {
              "version_major": 2,
              "version_minor": 0,
              "model_id": "cc1a72a85ae84bb4996d3d95eda8c999"
            }
          },
          "metadata": {}
        },
        {
          "output_type": "display_data",
          "data": {
            "text/plain": [
              "Downloading (…)okenizer_config.json:   0%|          | 0.00/26.0 [00:00<?, ?B/s]"
            ],
            "application/vnd.jupyter.widget-view+json": {
              "version_major": 2,
              "version_minor": 0,
              "model_id": "61b0c2b811594a1e81048fe49bafd4a2"
            }
          },
          "metadata": {}
        },
        {
          "output_type": "display_data",
          "data": {
            "text/plain": [
              "Downloading (…)olve/main/vocab.json:   0%|          | 0.00/899k [00:00<?, ?B/s]"
            ],
            "application/vnd.jupyter.widget-view+json": {
              "version_major": 2,
              "version_minor": 0,
              "model_id": "d0b65fec1ef3490e947bf5f85b382044"
            }
          },
          "metadata": {}
        },
        {
          "output_type": "display_data",
          "data": {
            "text/plain": [
              "Downloading (…)olve/main/merges.txt:   0%|          | 0.00/456k [00:00<?, ?B/s]"
            ],
            "application/vnd.jupyter.widget-view+json": {
              "version_major": 2,
              "version_minor": 0,
              "model_id": "900fb5af4f8945be8b15d172297fc44e"
            }
          },
          "metadata": {}
        },
        {
          "output_type": "stream",
          "name": "stdout",
          "text": [
            "[{'summary_text': ' Le Maroc consent un effort d’investissement important et constant, avec un emploi de plus en plus faible . The Maroc is présent à une croissance économique insuffisante, en tendance baissière . Plusieurs raisons peuvent être avancées pour justifier ce faible rendement .'}]\n"
          ]
        }
      ]
    },
    {
      "cell_type": "code",
      "source": [
        "print(summarizer(résumé))"
      ],
      "metadata": {
        "id": "Vh9tf-WJ4vzd",
        "outputId": "2822e255-9e4b-4c59-bd50-30ae42ff194c",
        "colab": {
          "base_uri": "https://localhost:8080/"
        }
      },
      "execution_count": null,
      "outputs": [
        {
          "output_type": "stream",
          "name": "stdout",
          "text": [
            "[{'summary_text': ' Le Maroc consent un effort d’investissement important et constant, avec un emploi de plus en plus faible . The Maroc is présent à une croissance économique insuffisante, en tendance baissière . Plusieurs raisons peuvent être avancées pour justifier ce faible rendement .'}]\n"
          ]
        }
      ]
    }
  ],
  "metadata": {
    "kernelspec": {
      "display_name": "base",
      "language": "python",
      "name": "python3"
    },
    "language_info": {
      "codemirror_mode": {
        "name": "ipython",
        "version": 3
      },
      "file_extension": ".py",
      "mimetype": "text/x-python",
      "name": "python",
      "nbconvert_exporter": "python",
      "pygments_lexer": "ipython3",
      "version": "3.8.8"
    },
    "orig_nbformat": 4,
    "vscode": {
      "interpreter": {
        "hash": "4f50d10cfb16256a87b986a3340c9fb048939859f36c336723dedb44ba4fcc11"
      }
    },
    "colab": {
      "provenance": [],
      "collapsed_sections": [
        "fpVaZXCxPggo"
      ],
      "include_colab_link": true
    },
    "widgets": {
      "application/vnd.jupyter.widget-state+json": {
        "47219d0020b54be89c19a4ae7a0f457f": {
          "model_module": "@jupyter-widgets/controls",
          "model_name": "HBoxModel",
          "model_module_version": "1.5.0",
          "state": {
            "_dom_classes": [],
            "_model_module": "@jupyter-widgets/controls",
            "_model_module_version": "1.5.0",
            "_model_name": "HBoxModel",
            "_view_count": null,
            "_view_module": "@jupyter-widgets/controls",
            "_view_module_version": "1.5.0",
            "_view_name": "HBoxView",
            "box_style": "",
            "children": [
              "IPY_MODEL_2c181695a5744b4aa7754eedc202afd2",
              "IPY_MODEL_e1c151bd9cb641be8c5bb79a587d4ca7",
              "IPY_MODEL_b8aef6a84b9a44f3950ab233d7fa361f"
            ],
            "layout": "IPY_MODEL_8322f4b62af64fc7ad9a043b3b943690"
          }
        },
        "2c181695a5744b4aa7754eedc202afd2": {
          "model_module": "@jupyter-widgets/controls",
          "model_name": "HTMLModel",
          "model_module_version": "1.5.0",
          "state": {
            "_dom_classes": [],
            "_model_module": "@jupyter-widgets/controls",
            "_model_module_version": "1.5.0",
            "_model_name": "HTMLModel",
            "_view_count": null,
            "_view_module": "@jupyter-widgets/controls",
            "_view_module_version": "1.5.0",
            "_view_name": "HTMLView",
            "description": "",
            "description_tooltip": null,
            "layout": "IPY_MODEL_873c71aa706e483883295b5fcdcb8245",
            "placeholder": "​",
            "style": "IPY_MODEL_37ffbd5fb978497ebd4d18e248d5d99d",
            "value": "Downloading (…)lve/main/config.json: 100%"
          }
        },
        "e1c151bd9cb641be8c5bb79a587d4ca7": {
          "model_module": "@jupyter-widgets/controls",
          "model_name": "FloatProgressModel",
          "model_module_version": "1.5.0",
          "state": {
            "_dom_classes": [],
            "_model_module": "@jupyter-widgets/controls",
            "_model_module_version": "1.5.0",
            "_model_name": "FloatProgressModel",
            "_view_count": null,
            "_view_module": "@jupyter-widgets/controls",
            "_view_module_version": "1.5.0",
            "_view_name": "ProgressView",
            "bar_style": "success",
            "description": "",
            "description_tooltip": null,
            "layout": "IPY_MODEL_77cfdf80c5104a578e8b82ac730a3bac",
            "max": 1802,
            "min": 0,
            "orientation": "horizontal",
            "style": "IPY_MODEL_5e08842e947042889c1b224932d06206",
            "value": 1802
          }
        },
        "b8aef6a84b9a44f3950ab233d7fa361f": {
          "model_module": "@jupyter-widgets/controls",
          "model_name": "HTMLModel",
          "model_module_version": "1.5.0",
          "state": {
            "_dom_classes": [],
            "_model_module": "@jupyter-widgets/controls",
            "_model_module_version": "1.5.0",
            "_model_name": "HTMLModel",
            "_view_count": null,
            "_view_module": "@jupyter-widgets/controls",
            "_view_module_version": "1.5.0",
            "_view_name": "HTMLView",
            "description": "",
            "description_tooltip": null,
            "layout": "IPY_MODEL_cff651cbf1a948148bcf80b2b68285aa",
            "placeholder": "​",
            "style": "IPY_MODEL_499a2683236a435d863932dd122d7f77",
            "value": " 1.80k/1.80k [00:00&lt;00:00, 65.7kB/s]"
          }
        },
        "8322f4b62af64fc7ad9a043b3b943690": {
          "model_module": "@jupyter-widgets/base",
          "model_name": "LayoutModel",
          "model_module_version": "1.2.0",
          "state": {
            "_model_module": "@jupyter-widgets/base",
            "_model_module_version": "1.2.0",
            "_model_name": "LayoutModel",
            "_view_count": null,
            "_view_module": "@jupyter-widgets/base",
            "_view_module_version": "1.2.0",
            "_view_name": "LayoutView",
            "align_content": null,
            "align_items": null,
            "align_self": null,
            "border": null,
            "bottom": null,
            "display": null,
            "flex": null,
            "flex_flow": null,
            "grid_area": null,
            "grid_auto_columns": null,
            "grid_auto_flow": null,
            "grid_auto_rows": null,
            "grid_column": null,
            "grid_gap": null,
            "grid_row": null,
            "grid_template_areas": null,
            "grid_template_columns": null,
            "grid_template_rows": null,
            "height": null,
            "justify_content": null,
            "justify_items": null,
            "left": null,
            "margin": null,
            "max_height": null,
            "max_width": null,
            "min_height": null,
            "min_width": null,
            "object_fit": null,
            "object_position": null,
            "order": null,
            "overflow": null,
            "overflow_x": null,
            "overflow_y": null,
            "padding": null,
            "right": null,
            "top": null,
            "visibility": null,
            "width": null
          }
        },
        "873c71aa706e483883295b5fcdcb8245": {
          "model_module": "@jupyter-widgets/base",
          "model_name": "LayoutModel",
          "model_module_version": "1.2.0",
          "state": {
            "_model_module": "@jupyter-widgets/base",
            "_model_module_version": "1.2.0",
            "_model_name": "LayoutModel",
            "_view_count": null,
            "_view_module": "@jupyter-widgets/base",
            "_view_module_version": "1.2.0",
            "_view_name": "LayoutView",
            "align_content": null,
            "align_items": null,
            "align_self": null,
            "border": null,
            "bottom": null,
            "display": null,
            "flex": null,
            "flex_flow": null,
            "grid_area": null,
            "grid_auto_columns": null,
            "grid_auto_flow": null,
            "grid_auto_rows": null,
            "grid_column": null,
            "grid_gap": null,
            "grid_row": null,
            "grid_template_areas": null,
            "grid_template_columns": null,
            "grid_template_rows": null,
            "height": null,
            "justify_content": null,
            "justify_items": null,
            "left": null,
            "margin": null,
            "max_height": null,
            "max_width": null,
            "min_height": null,
            "min_width": null,
            "object_fit": null,
            "object_position": null,
            "order": null,
            "overflow": null,
            "overflow_x": null,
            "overflow_y": null,
            "padding": null,
            "right": null,
            "top": null,
            "visibility": null,
            "width": null
          }
        },
        "37ffbd5fb978497ebd4d18e248d5d99d": {
          "model_module": "@jupyter-widgets/controls",
          "model_name": "DescriptionStyleModel",
          "model_module_version": "1.5.0",
          "state": {
            "_model_module": "@jupyter-widgets/controls",
            "_model_module_version": "1.5.0",
            "_model_name": "DescriptionStyleModel",
            "_view_count": null,
            "_view_module": "@jupyter-widgets/base",
            "_view_module_version": "1.2.0",
            "_view_name": "StyleView",
            "description_width": ""
          }
        },
        "77cfdf80c5104a578e8b82ac730a3bac": {
          "model_module": "@jupyter-widgets/base",
          "model_name": "LayoutModel",
          "model_module_version": "1.2.0",
          "state": {
            "_model_module": "@jupyter-widgets/base",
            "_model_module_version": "1.2.0",
            "_model_name": "LayoutModel",
            "_view_count": null,
            "_view_module": "@jupyter-widgets/base",
            "_view_module_version": "1.2.0",
            "_view_name": "LayoutView",
            "align_content": null,
            "align_items": null,
            "align_self": null,
            "border": null,
            "bottom": null,
            "display": null,
            "flex": null,
            "flex_flow": null,
            "grid_area": null,
            "grid_auto_columns": null,
            "grid_auto_flow": null,
            "grid_auto_rows": null,
            "grid_column": null,
            "grid_gap": null,
            "grid_row": null,
            "grid_template_areas": null,
            "grid_template_columns": null,
            "grid_template_rows": null,
            "height": null,
            "justify_content": null,
            "justify_items": null,
            "left": null,
            "margin": null,
            "max_height": null,
            "max_width": null,
            "min_height": null,
            "min_width": null,
            "object_fit": null,
            "object_position": null,
            "order": null,
            "overflow": null,
            "overflow_x": null,
            "overflow_y": null,
            "padding": null,
            "right": null,
            "top": null,
            "visibility": null,
            "width": null
          }
        },
        "5e08842e947042889c1b224932d06206": {
          "model_module": "@jupyter-widgets/controls",
          "model_name": "ProgressStyleModel",
          "model_module_version": "1.5.0",
          "state": {
            "_model_module": "@jupyter-widgets/controls",
            "_model_module_version": "1.5.0",
            "_model_name": "ProgressStyleModel",
            "_view_count": null,
            "_view_module": "@jupyter-widgets/base",
            "_view_module_version": "1.2.0",
            "_view_name": "StyleView",
            "bar_color": null,
            "description_width": ""
          }
        },
        "cff651cbf1a948148bcf80b2b68285aa": {
          "model_module": "@jupyter-widgets/base",
          "model_name": "LayoutModel",
          "model_module_version": "1.2.0",
          "state": {
            "_model_module": "@jupyter-widgets/base",
            "_model_module_version": "1.2.0",
            "_model_name": "LayoutModel",
            "_view_count": null,
            "_view_module": "@jupyter-widgets/base",
            "_view_module_version": "1.2.0",
            "_view_name": "LayoutView",
            "align_content": null,
            "align_items": null,
            "align_self": null,
            "border": null,
            "bottom": null,
            "display": null,
            "flex": null,
            "flex_flow": null,
            "grid_area": null,
            "grid_auto_columns": null,
            "grid_auto_flow": null,
            "grid_auto_rows": null,
            "grid_column": null,
            "grid_gap": null,
            "grid_row": null,
            "grid_template_areas": null,
            "grid_template_columns": null,
            "grid_template_rows": null,
            "height": null,
            "justify_content": null,
            "justify_items": null,
            "left": null,
            "margin": null,
            "max_height": null,
            "max_width": null,
            "min_height": null,
            "min_width": null,
            "object_fit": null,
            "object_position": null,
            "order": null,
            "overflow": null,
            "overflow_x": null,
            "overflow_y": null,
            "padding": null,
            "right": null,
            "top": null,
            "visibility": null,
            "width": null
          }
        },
        "499a2683236a435d863932dd122d7f77": {
          "model_module": "@jupyter-widgets/controls",
          "model_name": "DescriptionStyleModel",
          "model_module_version": "1.5.0",
          "state": {
            "_model_module": "@jupyter-widgets/controls",
            "_model_module_version": "1.5.0",
            "_model_name": "DescriptionStyleModel",
            "_view_count": null,
            "_view_module": "@jupyter-widgets/base",
            "_view_module_version": "1.2.0",
            "_view_name": "StyleView",
            "description_width": ""
          }
        },
        "cc1a72a85ae84bb4996d3d95eda8c999": {
          "model_module": "@jupyter-widgets/controls",
          "model_name": "HBoxModel",
          "model_module_version": "1.5.0",
          "state": {
            "_dom_classes": [],
            "_model_module": "@jupyter-widgets/controls",
            "_model_module_version": "1.5.0",
            "_model_name": "HBoxModel",
            "_view_count": null,
            "_view_module": "@jupyter-widgets/controls",
            "_view_module_version": "1.5.0",
            "_view_name": "HBoxView",
            "box_style": "",
            "children": [
              "IPY_MODEL_6fe9d56582704609bfd3c5e70feb33bb",
              "IPY_MODEL_4e6ef7f4985741a6ba8078635470893b",
              "IPY_MODEL_0db852877e2a47a7965615b12d90e4c6"
            ],
            "layout": "IPY_MODEL_d6fe0524a2f84d9f80ffe7fc5005f810"
          }
        },
        "6fe9d56582704609bfd3c5e70feb33bb": {
          "model_module": "@jupyter-widgets/controls",
          "model_name": "HTMLModel",
          "model_module_version": "1.5.0",
          "state": {
            "_dom_classes": [],
            "_model_module": "@jupyter-widgets/controls",
            "_model_module_version": "1.5.0",
            "_model_name": "HTMLModel",
            "_view_count": null,
            "_view_module": "@jupyter-widgets/controls",
            "_view_module_version": "1.5.0",
            "_view_name": "HTMLView",
            "description": "",
            "description_tooltip": null,
            "layout": "IPY_MODEL_f1127b00049f45a19fe0f23dde9ad522",
            "placeholder": "​",
            "style": "IPY_MODEL_1b11cb63c07c4e51b34b72cc99bcafae",
            "value": "Downloading pytorch_model.bin: 100%"
          }
        },
        "4e6ef7f4985741a6ba8078635470893b": {
          "model_module": "@jupyter-widgets/controls",
          "model_name": "FloatProgressModel",
          "model_module_version": "1.5.0",
          "state": {
            "_dom_classes": [],
            "_model_module": "@jupyter-widgets/controls",
            "_model_module_version": "1.5.0",
            "_model_name": "FloatProgressModel",
            "_view_count": null,
            "_view_module": "@jupyter-widgets/controls",
            "_view_module_version": "1.5.0",
            "_view_name": "ProgressView",
            "bar_style": "success",
            "description": "",
            "description_tooltip": null,
            "layout": "IPY_MODEL_02d5a936407349b0804abc9e22c8bae2",
            "max": 1222317369,
            "min": 0,
            "orientation": "horizontal",
            "style": "IPY_MODEL_18a507b4fd9248cf8da3f5999fa8ad8f",
            "value": 1222317369
          }
        },
        "0db852877e2a47a7965615b12d90e4c6": {
          "model_module": "@jupyter-widgets/controls",
          "model_name": "HTMLModel",
          "model_module_version": "1.5.0",
          "state": {
            "_dom_classes": [],
            "_model_module": "@jupyter-widgets/controls",
            "_model_module_version": "1.5.0",
            "_model_name": "HTMLModel",
            "_view_count": null,
            "_view_module": "@jupyter-widgets/controls",
            "_view_module_version": "1.5.0",
            "_view_name": "HTMLView",
            "description": "",
            "description_tooltip": null,
            "layout": "IPY_MODEL_27240b6e67884b098049f83d5c33a7b8",
            "placeholder": "​",
            "style": "IPY_MODEL_5e28ef597ff24a66bb6756ffbcac61a3",
            "value": " 1.22G/1.22G [00:15&lt;00:00, 81.6MB/s]"
          }
        },
        "d6fe0524a2f84d9f80ffe7fc5005f810": {
          "model_module": "@jupyter-widgets/base",
          "model_name": "LayoutModel",
          "model_module_version": "1.2.0",
          "state": {
            "_model_module": "@jupyter-widgets/base",
            "_model_module_version": "1.2.0",
            "_model_name": "LayoutModel",
            "_view_count": null,
            "_view_module": "@jupyter-widgets/base",
            "_view_module_version": "1.2.0",
            "_view_name": "LayoutView",
            "align_content": null,
            "align_items": null,
            "align_self": null,
            "border": null,
            "bottom": null,
            "display": null,
            "flex": null,
            "flex_flow": null,
            "grid_area": null,
            "grid_auto_columns": null,
            "grid_auto_flow": null,
            "grid_auto_rows": null,
            "grid_column": null,
            "grid_gap": null,
            "grid_row": null,
            "grid_template_areas": null,
            "grid_template_columns": null,
            "grid_template_rows": null,
            "height": null,
            "justify_content": null,
            "justify_items": null,
            "left": null,
            "margin": null,
            "max_height": null,
            "max_width": null,
            "min_height": null,
            "min_width": null,
            "object_fit": null,
            "object_position": null,
            "order": null,
            "overflow": null,
            "overflow_x": null,
            "overflow_y": null,
            "padding": null,
            "right": null,
            "top": null,
            "visibility": null,
            "width": null
          }
        },
        "f1127b00049f45a19fe0f23dde9ad522": {
          "model_module": "@jupyter-widgets/base",
          "model_name": "LayoutModel",
          "model_module_version": "1.2.0",
          "state": {
            "_model_module": "@jupyter-widgets/base",
            "_model_module_version": "1.2.0",
            "_model_name": "LayoutModel",
            "_view_count": null,
            "_view_module": "@jupyter-widgets/base",
            "_view_module_version": "1.2.0",
            "_view_name": "LayoutView",
            "align_content": null,
            "align_items": null,
            "align_self": null,
            "border": null,
            "bottom": null,
            "display": null,
            "flex": null,
            "flex_flow": null,
            "grid_area": null,
            "grid_auto_columns": null,
            "grid_auto_flow": null,
            "grid_auto_rows": null,
            "grid_column": null,
            "grid_gap": null,
            "grid_row": null,
            "grid_template_areas": null,
            "grid_template_columns": null,
            "grid_template_rows": null,
            "height": null,
            "justify_content": null,
            "justify_items": null,
            "left": null,
            "margin": null,
            "max_height": null,
            "max_width": null,
            "min_height": null,
            "min_width": null,
            "object_fit": null,
            "object_position": null,
            "order": null,
            "overflow": null,
            "overflow_x": null,
            "overflow_y": null,
            "padding": null,
            "right": null,
            "top": null,
            "visibility": null,
            "width": null
          }
        },
        "1b11cb63c07c4e51b34b72cc99bcafae": {
          "model_module": "@jupyter-widgets/controls",
          "model_name": "DescriptionStyleModel",
          "model_module_version": "1.5.0",
          "state": {
            "_model_module": "@jupyter-widgets/controls",
            "_model_module_version": "1.5.0",
            "_model_name": "DescriptionStyleModel",
            "_view_count": null,
            "_view_module": "@jupyter-widgets/base",
            "_view_module_version": "1.2.0",
            "_view_name": "StyleView",
            "description_width": ""
          }
        },
        "02d5a936407349b0804abc9e22c8bae2": {
          "model_module": "@jupyter-widgets/base",
          "model_name": "LayoutModel",
          "model_module_version": "1.2.0",
          "state": {
            "_model_module": "@jupyter-widgets/base",
            "_model_module_version": "1.2.0",
            "_model_name": "LayoutModel",
            "_view_count": null,
            "_view_module": "@jupyter-widgets/base",
            "_view_module_version": "1.2.0",
            "_view_name": "LayoutView",
            "align_content": null,
            "align_items": null,
            "align_self": null,
            "border": null,
            "bottom": null,
            "display": null,
            "flex": null,
            "flex_flow": null,
            "grid_area": null,
            "grid_auto_columns": null,
            "grid_auto_flow": null,
            "grid_auto_rows": null,
            "grid_column": null,
            "grid_gap": null,
            "grid_row": null,
            "grid_template_areas": null,
            "grid_template_columns": null,
            "grid_template_rows": null,
            "height": null,
            "justify_content": null,
            "justify_items": null,
            "left": null,
            "margin": null,
            "max_height": null,
            "max_width": null,
            "min_height": null,
            "min_width": null,
            "object_fit": null,
            "object_position": null,
            "order": null,
            "overflow": null,
            "overflow_x": null,
            "overflow_y": null,
            "padding": null,
            "right": null,
            "top": null,
            "visibility": null,
            "width": null
          }
        },
        "18a507b4fd9248cf8da3f5999fa8ad8f": {
          "model_module": "@jupyter-widgets/controls",
          "model_name": "ProgressStyleModel",
          "model_module_version": "1.5.0",
          "state": {
            "_model_module": "@jupyter-widgets/controls",
            "_model_module_version": "1.5.0",
            "_model_name": "ProgressStyleModel",
            "_view_count": null,
            "_view_module": "@jupyter-widgets/base",
            "_view_module_version": "1.2.0",
            "_view_name": "StyleView",
            "bar_color": null,
            "description_width": ""
          }
        },
        "27240b6e67884b098049f83d5c33a7b8": {
          "model_module": "@jupyter-widgets/base",
          "model_name": "LayoutModel",
          "model_module_version": "1.2.0",
          "state": {
            "_model_module": "@jupyter-widgets/base",
            "_model_module_version": "1.2.0",
            "_model_name": "LayoutModel",
            "_view_count": null,
            "_view_module": "@jupyter-widgets/base",
            "_view_module_version": "1.2.0",
            "_view_name": "LayoutView",
            "align_content": null,
            "align_items": null,
            "align_self": null,
            "border": null,
            "bottom": null,
            "display": null,
            "flex": null,
            "flex_flow": null,
            "grid_area": null,
            "grid_auto_columns": null,
            "grid_auto_flow": null,
            "grid_auto_rows": null,
            "grid_column": null,
            "grid_gap": null,
            "grid_row": null,
            "grid_template_areas": null,
            "grid_template_columns": null,
            "grid_template_rows": null,
            "height": null,
            "justify_content": null,
            "justify_items": null,
            "left": null,
            "margin": null,
            "max_height": null,
            "max_width": null,
            "min_height": null,
            "min_width": null,
            "object_fit": null,
            "object_position": null,
            "order": null,
            "overflow": null,
            "overflow_x": null,
            "overflow_y": null,
            "padding": null,
            "right": null,
            "top": null,
            "visibility": null,
            "width": null
          }
        },
        "5e28ef597ff24a66bb6756ffbcac61a3": {
          "model_module": "@jupyter-widgets/controls",
          "model_name": "DescriptionStyleModel",
          "model_module_version": "1.5.0",
          "state": {
            "_model_module": "@jupyter-widgets/controls",
            "_model_module_version": "1.5.0",
            "_model_name": "DescriptionStyleModel",
            "_view_count": null,
            "_view_module": "@jupyter-widgets/base",
            "_view_module_version": "1.2.0",
            "_view_name": "StyleView",
            "description_width": ""
          }
        },
        "61b0c2b811594a1e81048fe49bafd4a2": {
          "model_module": "@jupyter-widgets/controls",
          "model_name": "HBoxModel",
          "model_module_version": "1.5.0",
          "state": {
            "_dom_classes": [],
            "_model_module": "@jupyter-widgets/controls",
            "_model_module_version": "1.5.0",
            "_model_name": "HBoxModel",
            "_view_count": null,
            "_view_module": "@jupyter-widgets/controls",
            "_view_module_version": "1.5.0",
            "_view_name": "HBoxView",
            "box_style": "",
            "children": [
              "IPY_MODEL_3e4488963f70405ba4ac78c29d1bbce4",
              "IPY_MODEL_2c650b402d2048aea49c590ce3a32537",
              "IPY_MODEL_7db46c22485242a8a389c481fb401baa"
            ],
            "layout": "IPY_MODEL_83394f59d32e4e4ebe58dc6d9715f806"
          }
        },
        "3e4488963f70405ba4ac78c29d1bbce4": {
          "model_module": "@jupyter-widgets/controls",
          "model_name": "HTMLModel",
          "model_module_version": "1.5.0",
          "state": {
            "_dom_classes": [],
            "_model_module": "@jupyter-widgets/controls",
            "_model_module_version": "1.5.0",
            "_model_name": "HTMLModel",
            "_view_count": null,
            "_view_module": "@jupyter-widgets/controls",
            "_view_module_version": "1.5.0",
            "_view_name": "HTMLView",
            "description": "",
            "description_tooltip": null,
            "layout": "IPY_MODEL_bed7db0a0151486f9dfdc2099b00c24a",
            "placeholder": "​",
            "style": "IPY_MODEL_3b66934fc28149bea1776ca3073049e5",
            "value": "Downloading (…)okenizer_config.json: 100%"
          }
        },
        "2c650b402d2048aea49c590ce3a32537": {
          "model_module": "@jupyter-widgets/controls",
          "model_name": "FloatProgressModel",
          "model_module_version": "1.5.0",
          "state": {
            "_dom_classes": [],
            "_model_module": "@jupyter-widgets/controls",
            "_model_module_version": "1.5.0",
            "_model_name": "FloatProgressModel",
            "_view_count": null,
            "_view_module": "@jupyter-widgets/controls",
            "_view_module_version": "1.5.0",
            "_view_name": "ProgressView",
            "bar_style": "success",
            "description": "",
            "description_tooltip": null,
            "layout": "IPY_MODEL_a4adc94298174e869094779f6bfdfaa5",
            "max": 26,
            "min": 0,
            "orientation": "horizontal",
            "style": "IPY_MODEL_d34460bf232f48beb51abd9452c2a874",
            "value": 26
          }
        },
        "7db46c22485242a8a389c481fb401baa": {
          "model_module": "@jupyter-widgets/controls",
          "model_name": "HTMLModel",
          "model_module_version": "1.5.0",
          "state": {
            "_dom_classes": [],
            "_model_module": "@jupyter-widgets/controls",
            "_model_module_version": "1.5.0",
            "_model_name": "HTMLModel",
            "_view_count": null,
            "_view_module": "@jupyter-widgets/controls",
            "_view_module_version": "1.5.0",
            "_view_name": "HTMLView",
            "description": "",
            "description_tooltip": null,
            "layout": "IPY_MODEL_44e43190bf444d44a2186c6a59df2ff5",
            "placeholder": "​",
            "style": "IPY_MODEL_59a0e8d56e8048d0b515f3969974a2cc",
            "value": " 26.0/26.0 [00:00&lt;00:00, 1.46kB/s]"
          }
        },
        "83394f59d32e4e4ebe58dc6d9715f806": {
          "model_module": "@jupyter-widgets/base",
          "model_name": "LayoutModel",
          "model_module_version": "1.2.0",
          "state": {
            "_model_module": "@jupyter-widgets/base",
            "_model_module_version": "1.2.0",
            "_model_name": "LayoutModel",
            "_view_count": null,
            "_view_module": "@jupyter-widgets/base",
            "_view_module_version": "1.2.0",
            "_view_name": "LayoutView",
            "align_content": null,
            "align_items": null,
            "align_self": null,
            "border": null,
            "bottom": null,
            "display": null,
            "flex": null,
            "flex_flow": null,
            "grid_area": null,
            "grid_auto_columns": null,
            "grid_auto_flow": null,
            "grid_auto_rows": null,
            "grid_column": null,
            "grid_gap": null,
            "grid_row": null,
            "grid_template_areas": null,
            "grid_template_columns": null,
            "grid_template_rows": null,
            "height": null,
            "justify_content": null,
            "justify_items": null,
            "left": null,
            "margin": null,
            "max_height": null,
            "max_width": null,
            "min_height": null,
            "min_width": null,
            "object_fit": null,
            "object_position": null,
            "order": null,
            "overflow": null,
            "overflow_x": null,
            "overflow_y": null,
            "padding": null,
            "right": null,
            "top": null,
            "visibility": null,
            "width": null
          }
        },
        "bed7db0a0151486f9dfdc2099b00c24a": {
          "model_module": "@jupyter-widgets/base",
          "model_name": "LayoutModel",
          "model_module_version": "1.2.0",
          "state": {
            "_model_module": "@jupyter-widgets/base",
            "_model_module_version": "1.2.0",
            "_model_name": "LayoutModel",
            "_view_count": null,
            "_view_module": "@jupyter-widgets/base",
            "_view_module_version": "1.2.0",
            "_view_name": "LayoutView",
            "align_content": null,
            "align_items": null,
            "align_self": null,
            "border": null,
            "bottom": null,
            "display": null,
            "flex": null,
            "flex_flow": null,
            "grid_area": null,
            "grid_auto_columns": null,
            "grid_auto_flow": null,
            "grid_auto_rows": null,
            "grid_column": null,
            "grid_gap": null,
            "grid_row": null,
            "grid_template_areas": null,
            "grid_template_columns": null,
            "grid_template_rows": null,
            "height": null,
            "justify_content": null,
            "justify_items": null,
            "left": null,
            "margin": null,
            "max_height": null,
            "max_width": null,
            "min_height": null,
            "min_width": null,
            "object_fit": null,
            "object_position": null,
            "order": null,
            "overflow": null,
            "overflow_x": null,
            "overflow_y": null,
            "padding": null,
            "right": null,
            "top": null,
            "visibility": null,
            "width": null
          }
        },
        "3b66934fc28149bea1776ca3073049e5": {
          "model_module": "@jupyter-widgets/controls",
          "model_name": "DescriptionStyleModel",
          "model_module_version": "1.5.0",
          "state": {
            "_model_module": "@jupyter-widgets/controls",
            "_model_module_version": "1.5.0",
            "_model_name": "DescriptionStyleModel",
            "_view_count": null,
            "_view_module": "@jupyter-widgets/base",
            "_view_module_version": "1.2.0",
            "_view_name": "StyleView",
            "description_width": ""
          }
        },
        "a4adc94298174e869094779f6bfdfaa5": {
          "model_module": "@jupyter-widgets/base",
          "model_name": "LayoutModel",
          "model_module_version": "1.2.0",
          "state": {
            "_model_module": "@jupyter-widgets/base",
            "_model_module_version": "1.2.0",
            "_model_name": "LayoutModel",
            "_view_count": null,
            "_view_module": "@jupyter-widgets/base",
            "_view_module_version": "1.2.0",
            "_view_name": "LayoutView",
            "align_content": null,
            "align_items": null,
            "align_self": null,
            "border": null,
            "bottom": null,
            "display": null,
            "flex": null,
            "flex_flow": null,
            "grid_area": null,
            "grid_auto_columns": null,
            "grid_auto_flow": null,
            "grid_auto_rows": null,
            "grid_column": null,
            "grid_gap": null,
            "grid_row": null,
            "grid_template_areas": null,
            "grid_template_columns": null,
            "grid_template_rows": null,
            "height": null,
            "justify_content": null,
            "justify_items": null,
            "left": null,
            "margin": null,
            "max_height": null,
            "max_width": null,
            "min_height": null,
            "min_width": null,
            "object_fit": null,
            "object_position": null,
            "order": null,
            "overflow": null,
            "overflow_x": null,
            "overflow_y": null,
            "padding": null,
            "right": null,
            "top": null,
            "visibility": null,
            "width": null
          }
        },
        "d34460bf232f48beb51abd9452c2a874": {
          "model_module": "@jupyter-widgets/controls",
          "model_name": "ProgressStyleModel",
          "model_module_version": "1.5.0",
          "state": {
            "_model_module": "@jupyter-widgets/controls",
            "_model_module_version": "1.5.0",
            "_model_name": "ProgressStyleModel",
            "_view_count": null,
            "_view_module": "@jupyter-widgets/base",
            "_view_module_version": "1.2.0",
            "_view_name": "StyleView",
            "bar_color": null,
            "description_width": ""
          }
        },
        "44e43190bf444d44a2186c6a59df2ff5": {
          "model_module": "@jupyter-widgets/base",
          "model_name": "LayoutModel",
          "model_module_version": "1.2.0",
          "state": {
            "_model_module": "@jupyter-widgets/base",
            "_model_module_version": "1.2.0",
            "_model_name": "LayoutModel",
            "_view_count": null,
            "_view_module": "@jupyter-widgets/base",
            "_view_module_version": "1.2.0",
            "_view_name": "LayoutView",
            "align_content": null,
            "align_items": null,
            "align_self": null,
            "border": null,
            "bottom": null,
            "display": null,
            "flex": null,
            "flex_flow": null,
            "grid_area": null,
            "grid_auto_columns": null,
            "grid_auto_flow": null,
            "grid_auto_rows": null,
            "grid_column": null,
            "grid_gap": null,
            "grid_row": null,
            "grid_template_areas": null,
            "grid_template_columns": null,
            "grid_template_rows": null,
            "height": null,
            "justify_content": null,
            "justify_items": null,
            "left": null,
            "margin": null,
            "max_height": null,
            "max_width": null,
            "min_height": null,
            "min_width": null,
            "object_fit": null,
            "object_position": null,
            "order": null,
            "overflow": null,
            "overflow_x": null,
            "overflow_y": null,
            "padding": null,
            "right": null,
            "top": null,
            "visibility": null,
            "width": null
          }
        },
        "59a0e8d56e8048d0b515f3969974a2cc": {
          "model_module": "@jupyter-widgets/controls",
          "model_name": "DescriptionStyleModel",
          "model_module_version": "1.5.0",
          "state": {
            "_model_module": "@jupyter-widgets/controls",
            "_model_module_version": "1.5.0",
            "_model_name": "DescriptionStyleModel",
            "_view_count": null,
            "_view_module": "@jupyter-widgets/base",
            "_view_module_version": "1.2.0",
            "_view_name": "StyleView",
            "description_width": ""
          }
        },
        "d0b65fec1ef3490e947bf5f85b382044": {
          "model_module": "@jupyter-widgets/controls",
          "model_name": "HBoxModel",
          "model_module_version": "1.5.0",
          "state": {
            "_dom_classes": [],
            "_model_module": "@jupyter-widgets/controls",
            "_model_module_version": "1.5.0",
            "_model_name": "HBoxModel",
            "_view_count": null,
            "_view_module": "@jupyter-widgets/controls",
            "_view_module_version": "1.5.0",
            "_view_name": "HBoxView",
            "box_style": "",
            "children": [
              "IPY_MODEL_22535b73bf30487588463606b22c4b9c",
              "IPY_MODEL_752b707720664de2b565ca16b13cafd7",
              "IPY_MODEL_c960447d26ee4fcb868fef8d70c9224a"
            ],
            "layout": "IPY_MODEL_76848cc3903a46c3ab17a115ddf23685"
          }
        },
        "22535b73bf30487588463606b22c4b9c": {
          "model_module": "@jupyter-widgets/controls",
          "model_name": "HTMLModel",
          "model_module_version": "1.5.0",
          "state": {
            "_dom_classes": [],
            "_model_module": "@jupyter-widgets/controls",
            "_model_module_version": "1.5.0",
            "_model_name": "HTMLModel",
            "_view_count": null,
            "_view_module": "@jupyter-widgets/controls",
            "_view_module_version": "1.5.0",
            "_view_name": "HTMLView",
            "description": "",
            "description_tooltip": null,
            "layout": "IPY_MODEL_9d3717943a0d402395d61b704898c8c3",
            "placeholder": "​",
            "style": "IPY_MODEL_859a47eae975454d9b87796182b3ca6d",
            "value": "Downloading (…)olve/main/vocab.json: 100%"
          }
        },
        "752b707720664de2b565ca16b13cafd7": {
          "model_module": "@jupyter-widgets/controls",
          "model_name": "FloatProgressModel",
          "model_module_version": "1.5.0",
          "state": {
            "_dom_classes": [],
            "_model_module": "@jupyter-widgets/controls",
            "_model_module_version": "1.5.0",
            "_model_name": "FloatProgressModel",
            "_view_count": null,
            "_view_module": "@jupyter-widgets/controls",
            "_view_module_version": "1.5.0",
            "_view_name": "ProgressView",
            "bar_style": "success",
            "description": "",
            "description_tooltip": null,
            "layout": "IPY_MODEL_efcebd9cc73a4696a871e39bbf0778bd",
            "max": 898822,
            "min": 0,
            "orientation": "horizontal",
            "style": "IPY_MODEL_8876bacf80cd47b59961f06007b79992",
            "value": 898822
          }
        },
        "c960447d26ee4fcb868fef8d70c9224a": {
          "model_module": "@jupyter-widgets/controls",
          "model_name": "HTMLModel",
          "model_module_version": "1.5.0",
          "state": {
            "_dom_classes": [],
            "_model_module": "@jupyter-widgets/controls",
            "_model_module_version": "1.5.0",
            "_model_name": "HTMLModel",
            "_view_count": null,
            "_view_module": "@jupyter-widgets/controls",
            "_view_module_version": "1.5.0",
            "_view_name": "HTMLView",
            "description": "",
            "description_tooltip": null,
            "layout": "IPY_MODEL_08cc02254b0c496ca1435a63745a8de7",
            "placeholder": "​",
            "style": "IPY_MODEL_4f52590191b04207a4fe578cb088bca4",
            "value": " 899k/899k [00:00&lt;00:00, 8.10MB/s]"
          }
        },
        "76848cc3903a46c3ab17a115ddf23685": {
          "model_module": "@jupyter-widgets/base",
          "model_name": "LayoutModel",
          "model_module_version": "1.2.0",
          "state": {
            "_model_module": "@jupyter-widgets/base",
            "_model_module_version": "1.2.0",
            "_model_name": "LayoutModel",
            "_view_count": null,
            "_view_module": "@jupyter-widgets/base",
            "_view_module_version": "1.2.0",
            "_view_name": "LayoutView",
            "align_content": null,
            "align_items": null,
            "align_self": null,
            "border": null,
            "bottom": null,
            "display": null,
            "flex": null,
            "flex_flow": null,
            "grid_area": null,
            "grid_auto_columns": null,
            "grid_auto_flow": null,
            "grid_auto_rows": null,
            "grid_column": null,
            "grid_gap": null,
            "grid_row": null,
            "grid_template_areas": null,
            "grid_template_columns": null,
            "grid_template_rows": null,
            "height": null,
            "justify_content": null,
            "justify_items": null,
            "left": null,
            "margin": null,
            "max_height": null,
            "max_width": null,
            "min_height": null,
            "min_width": null,
            "object_fit": null,
            "object_position": null,
            "order": null,
            "overflow": null,
            "overflow_x": null,
            "overflow_y": null,
            "padding": null,
            "right": null,
            "top": null,
            "visibility": null,
            "width": null
          }
        },
        "9d3717943a0d402395d61b704898c8c3": {
          "model_module": "@jupyter-widgets/base",
          "model_name": "LayoutModel",
          "model_module_version": "1.2.0",
          "state": {
            "_model_module": "@jupyter-widgets/base",
            "_model_module_version": "1.2.0",
            "_model_name": "LayoutModel",
            "_view_count": null,
            "_view_module": "@jupyter-widgets/base",
            "_view_module_version": "1.2.0",
            "_view_name": "LayoutView",
            "align_content": null,
            "align_items": null,
            "align_self": null,
            "border": null,
            "bottom": null,
            "display": null,
            "flex": null,
            "flex_flow": null,
            "grid_area": null,
            "grid_auto_columns": null,
            "grid_auto_flow": null,
            "grid_auto_rows": null,
            "grid_column": null,
            "grid_gap": null,
            "grid_row": null,
            "grid_template_areas": null,
            "grid_template_columns": null,
            "grid_template_rows": null,
            "height": null,
            "justify_content": null,
            "justify_items": null,
            "left": null,
            "margin": null,
            "max_height": null,
            "max_width": null,
            "min_height": null,
            "min_width": null,
            "object_fit": null,
            "object_position": null,
            "order": null,
            "overflow": null,
            "overflow_x": null,
            "overflow_y": null,
            "padding": null,
            "right": null,
            "top": null,
            "visibility": null,
            "width": null
          }
        },
        "859a47eae975454d9b87796182b3ca6d": {
          "model_module": "@jupyter-widgets/controls",
          "model_name": "DescriptionStyleModel",
          "model_module_version": "1.5.0",
          "state": {
            "_model_module": "@jupyter-widgets/controls",
            "_model_module_version": "1.5.0",
            "_model_name": "DescriptionStyleModel",
            "_view_count": null,
            "_view_module": "@jupyter-widgets/base",
            "_view_module_version": "1.2.0",
            "_view_name": "StyleView",
            "description_width": ""
          }
        },
        "efcebd9cc73a4696a871e39bbf0778bd": {
          "model_module": "@jupyter-widgets/base",
          "model_name": "LayoutModel",
          "model_module_version": "1.2.0",
          "state": {
            "_model_module": "@jupyter-widgets/base",
            "_model_module_version": "1.2.0",
            "_model_name": "LayoutModel",
            "_view_count": null,
            "_view_module": "@jupyter-widgets/base",
            "_view_module_version": "1.2.0",
            "_view_name": "LayoutView",
            "align_content": null,
            "align_items": null,
            "align_self": null,
            "border": null,
            "bottom": null,
            "display": null,
            "flex": null,
            "flex_flow": null,
            "grid_area": null,
            "grid_auto_columns": null,
            "grid_auto_flow": null,
            "grid_auto_rows": null,
            "grid_column": null,
            "grid_gap": null,
            "grid_row": null,
            "grid_template_areas": null,
            "grid_template_columns": null,
            "grid_template_rows": null,
            "height": null,
            "justify_content": null,
            "justify_items": null,
            "left": null,
            "margin": null,
            "max_height": null,
            "max_width": null,
            "min_height": null,
            "min_width": null,
            "object_fit": null,
            "object_position": null,
            "order": null,
            "overflow": null,
            "overflow_x": null,
            "overflow_y": null,
            "padding": null,
            "right": null,
            "top": null,
            "visibility": null,
            "width": null
          }
        },
        "8876bacf80cd47b59961f06007b79992": {
          "model_module": "@jupyter-widgets/controls",
          "model_name": "ProgressStyleModel",
          "model_module_version": "1.5.0",
          "state": {
            "_model_module": "@jupyter-widgets/controls",
            "_model_module_version": "1.5.0",
            "_model_name": "ProgressStyleModel",
            "_view_count": null,
            "_view_module": "@jupyter-widgets/base",
            "_view_module_version": "1.2.0",
            "_view_name": "StyleView",
            "bar_color": null,
            "description_width": ""
          }
        },
        "08cc02254b0c496ca1435a63745a8de7": {
          "model_module": "@jupyter-widgets/base",
          "model_name": "LayoutModel",
          "model_module_version": "1.2.0",
          "state": {
            "_model_module": "@jupyter-widgets/base",
            "_model_module_version": "1.2.0",
            "_model_name": "LayoutModel",
            "_view_count": null,
            "_view_module": "@jupyter-widgets/base",
            "_view_module_version": "1.2.0",
            "_view_name": "LayoutView",
            "align_content": null,
            "align_items": null,
            "align_self": null,
            "border": null,
            "bottom": null,
            "display": null,
            "flex": null,
            "flex_flow": null,
            "grid_area": null,
            "grid_auto_columns": null,
            "grid_auto_flow": null,
            "grid_auto_rows": null,
            "grid_column": null,
            "grid_gap": null,
            "grid_row": null,
            "grid_template_areas": null,
            "grid_template_columns": null,
            "grid_template_rows": null,
            "height": null,
            "justify_content": null,
            "justify_items": null,
            "left": null,
            "margin": null,
            "max_height": null,
            "max_width": null,
            "min_height": null,
            "min_width": null,
            "object_fit": null,
            "object_position": null,
            "order": null,
            "overflow": null,
            "overflow_x": null,
            "overflow_y": null,
            "padding": null,
            "right": null,
            "top": null,
            "visibility": null,
            "width": null
          }
        },
        "4f52590191b04207a4fe578cb088bca4": {
          "model_module": "@jupyter-widgets/controls",
          "model_name": "DescriptionStyleModel",
          "model_module_version": "1.5.0",
          "state": {
            "_model_module": "@jupyter-widgets/controls",
            "_model_module_version": "1.5.0",
            "_model_name": "DescriptionStyleModel",
            "_view_count": null,
            "_view_module": "@jupyter-widgets/base",
            "_view_module_version": "1.2.0",
            "_view_name": "StyleView",
            "description_width": ""
          }
        },
        "900fb5af4f8945be8b15d172297fc44e": {
          "model_module": "@jupyter-widgets/controls",
          "model_name": "HBoxModel",
          "model_module_version": "1.5.0",
          "state": {
            "_dom_classes": [],
            "_model_module": "@jupyter-widgets/controls",
            "_model_module_version": "1.5.0",
            "_model_name": "HBoxModel",
            "_view_count": null,
            "_view_module": "@jupyter-widgets/controls",
            "_view_module_version": "1.5.0",
            "_view_name": "HBoxView",
            "box_style": "",
            "children": [
              "IPY_MODEL_205aa54383904137a9f8081f42cc9d03",
              "IPY_MODEL_179c2723e445420d8bfe5df835089675",
              "IPY_MODEL_062f770bcd2c42288767deed6e894f20"
            ],
            "layout": "IPY_MODEL_2087d526d3cc4ea2b8791092c01c3454"
          }
        },
        "205aa54383904137a9f8081f42cc9d03": {
          "model_module": "@jupyter-widgets/controls",
          "model_name": "HTMLModel",
          "model_module_version": "1.5.0",
          "state": {
            "_dom_classes": [],
            "_model_module": "@jupyter-widgets/controls",
            "_model_module_version": "1.5.0",
            "_model_name": "HTMLModel",
            "_view_count": null,
            "_view_module": "@jupyter-widgets/controls",
            "_view_module_version": "1.5.0",
            "_view_name": "HTMLView",
            "description": "",
            "description_tooltip": null,
            "layout": "IPY_MODEL_0411c7c6bde34b5ea3cc55bb69d86da8",
            "placeholder": "​",
            "style": "IPY_MODEL_5033e1ec7b9b48cda8139539be98dd66",
            "value": "Downloading (…)olve/main/merges.txt: 100%"
          }
        },
        "179c2723e445420d8bfe5df835089675": {
          "model_module": "@jupyter-widgets/controls",
          "model_name": "FloatProgressModel",
          "model_module_version": "1.5.0",
          "state": {
            "_dom_classes": [],
            "_model_module": "@jupyter-widgets/controls",
            "_model_module_version": "1.5.0",
            "_model_name": "FloatProgressModel",
            "_view_count": null,
            "_view_module": "@jupyter-widgets/controls",
            "_view_module_version": "1.5.0",
            "_view_name": "ProgressView",
            "bar_style": "success",
            "description": "",
            "description_tooltip": null,
            "layout": "IPY_MODEL_3b68ea47cdfd4f9cb2c9d4343a06c04f",
            "max": 456318,
            "min": 0,
            "orientation": "horizontal",
            "style": "IPY_MODEL_18c25993f98e4866bb5614fb9c4e94bf",
            "value": 456318
          }
        },
        "062f770bcd2c42288767deed6e894f20": {
          "model_module": "@jupyter-widgets/controls",
          "model_name": "HTMLModel",
          "model_module_version": "1.5.0",
          "state": {
            "_dom_classes": [],
            "_model_module": "@jupyter-widgets/controls",
            "_model_module_version": "1.5.0",
            "_model_name": "HTMLModel",
            "_view_count": null,
            "_view_module": "@jupyter-widgets/controls",
            "_view_module_version": "1.5.0",
            "_view_name": "HTMLView",
            "description": "",
            "description_tooltip": null,
            "layout": "IPY_MODEL_b618a8da1b76483abf62d61c1e7bbcd9",
            "placeholder": "​",
            "style": "IPY_MODEL_0f27ed3e419f4421b3da7300dbdfeeea",
            "value": " 456k/456k [00:00&lt;00:00, 16.5MB/s]"
          }
        },
        "2087d526d3cc4ea2b8791092c01c3454": {
          "model_module": "@jupyter-widgets/base",
          "model_name": "LayoutModel",
          "model_module_version": "1.2.0",
          "state": {
            "_model_module": "@jupyter-widgets/base",
            "_model_module_version": "1.2.0",
            "_model_name": "LayoutModel",
            "_view_count": null,
            "_view_module": "@jupyter-widgets/base",
            "_view_module_version": "1.2.0",
            "_view_name": "LayoutView",
            "align_content": null,
            "align_items": null,
            "align_self": null,
            "border": null,
            "bottom": null,
            "display": null,
            "flex": null,
            "flex_flow": null,
            "grid_area": null,
            "grid_auto_columns": null,
            "grid_auto_flow": null,
            "grid_auto_rows": null,
            "grid_column": null,
            "grid_gap": null,
            "grid_row": null,
            "grid_template_areas": null,
            "grid_template_columns": null,
            "grid_template_rows": null,
            "height": null,
            "justify_content": null,
            "justify_items": null,
            "left": null,
            "margin": null,
            "max_height": null,
            "max_width": null,
            "min_height": null,
            "min_width": null,
            "object_fit": null,
            "object_position": null,
            "order": null,
            "overflow": null,
            "overflow_x": null,
            "overflow_y": null,
            "padding": null,
            "right": null,
            "top": null,
            "visibility": null,
            "width": null
          }
        },
        "0411c7c6bde34b5ea3cc55bb69d86da8": {
          "model_module": "@jupyter-widgets/base",
          "model_name": "LayoutModel",
          "model_module_version": "1.2.0",
          "state": {
            "_model_module": "@jupyter-widgets/base",
            "_model_module_version": "1.2.0",
            "_model_name": "LayoutModel",
            "_view_count": null,
            "_view_module": "@jupyter-widgets/base",
            "_view_module_version": "1.2.0",
            "_view_name": "LayoutView",
            "align_content": null,
            "align_items": null,
            "align_self": null,
            "border": null,
            "bottom": null,
            "display": null,
            "flex": null,
            "flex_flow": null,
            "grid_area": null,
            "grid_auto_columns": null,
            "grid_auto_flow": null,
            "grid_auto_rows": null,
            "grid_column": null,
            "grid_gap": null,
            "grid_row": null,
            "grid_template_areas": null,
            "grid_template_columns": null,
            "grid_template_rows": null,
            "height": null,
            "justify_content": null,
            "justify_items": null,
            "left": null,
            "margin": null,
            "max_height": null,
            "max_width": null,
            "min_height": null,
            "min_width": null,
            "object_fit": null,
            "object_position": null,
            "order": null,
            "overflow": null,
            "overflow_x": null,
            "overflow_y": null,
            "padding": null,
            "right": null,
            "top": null,
            "visibility": null,
            "width": null
          }
        },
        "5033e1ec7b9b48cda8139539be98dd66": {
          "model_module": "@jupyter-widgets/controls",
          "model_name": "DescriptionStyleModel",
          "model_module_version": "1.5.0",
          "state": {
            "_model_module": "@jupyter-widgets/controls",
            "_model_module_version": "1.5.0",
            "_model_name": "DescriptionStyleModel",
            "_view_count": null,
            "_view_module": "@jupyter-widgets/base",
            "_view_module_version": "1.2.0",
            "_view_name": "StyleView",
            "description_width": ""
          }
        },
        "3b68ea47cdfd4f9cb2c9d4343a06c04f": {
          "model_module": "@jupyter-widgets/base",
          "model_name": "LayoutModel",
          "model_module_version": "1.2.0",
          "state": {
            "_model_module": "@jupyter-widgets/base",
            "_model_module_version": "1.2.0",
            "_model_name": "LayoutModel",
            "_view_count": null,
            "_view_module": "@jupyter-widgets/base",
            "_view_module_version": "1.2.0",
            "_view_name": "LayoutView",
            "align_content": null,
            "align_items": null,
            "align_self": null,
            "border": null,
            "bottom": null,
            "display": null,
            "flex": null,
            "flex_flow": null,
            "grid_area": null,
            "grid_auto_columns": null,
            "grid_auto_flow": null,
            "grid_auto_rows": null,
            "grid_column": null,
            "grid_gap": null,
            "grid_row": null,
            "grid_template_areas": null,
            "grid_template_columns": null,
            "grid_template_rows": null,
            "height": null,
            "justify_content": null,
            "justify_items": null,
            "left": null,
            "margin": null,
            "max_height": null,
            "max_width": null,
            "min_height": null,
            "min_width": null,
            "object_fit": null,
            "object_position": null,
            "order": null,
            "overflow": null,
            "overflow_x": null,
            "overflow_y": null,
            "padding": null,
            "right": null,
            "top": null,
            "visibility": null,
            "width": null
          }
        },
        "18c25993f98e4866bb5614fb9c4e94bf": {
          "model_module": "@jupyter-widgets/controls",
          "model_name": "ProgressStyleModel",
          "model_module_version": "1.5.0",
          "state": {
            "_model_module": "@jupyter-widgets/controls",
            "_model_module_version": "1.5.0",
            "_model_name": "ProgressStyleModel",
            "_view_count": null,
            "_view_module": "@jupyter-widgets/base",
            "_view_module_version": "1.2.0",
            "_view_name": "StyleView",
            "bar_color": null,
            "description_width": ""
          }
        },
        "b618a8da1b76483abf62d61c1e7bbcd9": {
          "model_module": "@jupyter-widgets/base",
          "model_name": "LayoutModel",
          "model_module_version": "1.2.0",
          "state": {
            "_model_module": "@jupyter-widgets/base",
            "_model_module_version": "1.2.0",
            "_model_name": "LayoutModel",
            "_view_count": null,
            "_view_module": "@jupyter-widgets/base",
            "_view_module_version": "1.2.0",
            "_view_name": "LayoutView",
            "align_content": null,
            "align_items": null,
            "align_self": null,
            "border": null,
            "bottom": null,
            "display": null,
            "flex": null,
            "flex_flow": null,
            "grid_area": null,
            "grid_auto_columns": null,
            "grid_auto_flow": null,
            "grid_auto_rows": null,
            "grid_column": null,
            "grid_gap": null,
            "grid_row": null,
            "grid_template_areas": null,
            "grid_template_columns": null,
            "grid_template_rows": null,
            "height": null,
            "justify_content": null,
            "justify_items": null,
            "left": null,
            "margin": null,
            "max_height": null,
            "max_width": null,
            "min_height": null,
            "min_width": null,
            "object_fit": null,
            "object_position": null,
            "order": null,
            "overflow": null,
            "overflow_x": null,
            "overflow_y": null,
            "padding": null,
            "right": null,
            "top": null,
            "visibility": null,
            "width": null
          }
        },
        "0f27ed3e419f4421b3da7300dbdfeeea": {
          "model_module": "@jupyter-widgets/controls",
          "model_name": "DescriptionStyleModel",
          "model_module_version": "1.5.0",
          "state": {
            "_model_module": "@jupyter-widgets/controls",
            "_model_module_version": "1.5.0",
            "_model_name": "DescriptionStyleModel",
            "_view_count": null,
            "_view_module": "@jupyter-widgets/base",
            "_view_module_version": "1.2.0",
            "_view_name": "StyleView",
            "description_width": ""
          }
        }
      }
    }
  },
  "nbformat": 4,
  "nbformat_minor": 0
}